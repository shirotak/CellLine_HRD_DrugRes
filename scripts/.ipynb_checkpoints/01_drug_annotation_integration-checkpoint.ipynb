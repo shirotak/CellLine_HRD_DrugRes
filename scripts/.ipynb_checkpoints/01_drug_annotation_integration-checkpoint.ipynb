{
 "cells": [
  {
   "cell_type": "markdown",
   "id": "ace5a362-ed53-4194-b50b-e14b32d43c3e",
   "metadata": {
    "tags": []
   },
   "source": [
    "# Drug Annotation"
   ]
  },
  {
   "cell_type": "code",
   "execution_count": 1,
   "id": "aba04de5-9096-43a5-af34-b97089a50e69",
   "metadata": {
    "tags": []
   },
   "outputs": [],
   "source": [
    "import numpy as np\n",
    "import pandas as pd \n",
    "import matplotlib.pyplot as plt\n",
    "%matplotlib inline\n",
    "import seaborn as sns\n",
    "sns.set()\n",
    "import os,sys\n",
    "from scipy import stats\n",
    "from collections import Counter\n",
    "plt.style.use('seaborn-white')"
   ]
  },
  {
   "cell_type": "markdown",
   "id": "b13577d7-f976-4d39-a3a8-4bf980e506a5",
   "metadata": {},
   "source": [
    "## GDSC1"
   ]
  },
  {
   "cell_type": "code",
   "execution_count": 2,
   "id": "877a625b-3fcb-4a9f-9b29-2e7cb2268746",
   "metadata": {
    "tags": []
   },
   "outputs": [],
   "source": [
    "gdsc1_cid=pd.read_csv('../data/GDSC1_drug_cid_table_manually_curated.csv')\n",
    "gdsc1_info_sel=gdsc1_cid[~gdsc1_cid['pubchem'].isin(['-','None','none'])]"
   ]
  },
  {
   "cell_type": "markdown",
   "id": "3486a118-9b9b-41d5-8601-124e1e75475d",
   "metadata": {},
   "source": [
    "## GDSC2"
   ]
  },
  {
   "cell_type": "code",
   "execution_count": 3,
   "id": "57e99868-a504-403d-87a0-5988ab24af46",
   "metadata": {
    "tags": []
   },
   "outputs": [],
   "source": [
    "gdsc2_cid=pd.read_csv('../data/GDSC2_drug_cid_table_manually_curated.csv')\n",
    "gdsc2_cid['Drug_name_id']=['GDSC2_'+x+'_'+str(y) for x,y in zip(gdsc2_cid['drug_name'],gdsc2_cid['drug_id'])]\n",
    "gdsc2_info_sel=gdsc2_cid[~gdsc2_cid['pubchem'].isin(['-','None','none'])]"
   ]
  },
  {
   "cell_type": "markdown",
   "id": "1bb52974-6e85-4bb4-9353-79b08f838f64",
   "metadata": {},
   "source": [
    "## CTRP2"
   ]
  },
  {
   "cell_type": "code",
   "execution_count": 4,
   "id": "527650a5-d1be-4667-a872-2703fd04221b",
   "metadata": {
    "tags": []
   },
   "outputs": [],
   "source": [
    "ctrp2_info=pd.read_csv('../../CellLine_HRD_DrugRes_dev/data/CTRPv2.0._INFORMER_SET.csv')\n",
    "ctrp2_info_sel=ctrp2_info[ctrp2_info['cpd_status'].isin(['clinical','FDA'])]\n",
    "ctrp2_info_sel=ctrp2_info_sel[~ctrp2_info_sel['master_cpd_id'].isna()]\n",
    "dict_cpdid_name_ctrp2={k:v for k,v in zip(ctrp2_info_sel['master_cpd_id'],ctrp2_info_sel['cpd_name'])}"
   ]
  },
  {
   "cell_type": "code",
   "execution_count": 5,
   "id": "d736c13c-3518-414b-b604-8b22e63b8edb",
   "metadata": {
    "tags": []
   },
   "outputs": [],
   "source": [
    "ctrp2_anno=pd.read_csv('../../CellLine_HRD_DrugRes_dev/data/CTRP2_pharmacoDB_drug_info_manually_curated.txt',sep='\\t')\n",
    "ctrp2_add=ctrp2_anno[['master_cpd_id','cid']].fillna(-1).astype(int)"
   ]
  },
  {
   "cell_type": "code",
   "execution_count": 6,
   "id": "d96023cf-834f-452a-8077-eb069b922a5b",
   "metadata": {
    "tags": []
   },
   "outputs": [],
   "source": [
    "ctrp2_info_sel=ctrp2_info_sel.merge(ctrp2_add,left_on='master_cpd_id',right_on='master_cpd_id',how='left')"
   ]
  },
  {
   "cell_type": "markdown",
   "id": "0658898c-322e-47a8-9200-99ea6836d4fd",
   "metadata": {},
   "source": [
    "## CTRP1"
   ]
  },
  {
   "cell_type": "code",
   "execution_count": 7,
   "id": "84a194f3-3dec-4f6f-828a-1f409eb6f785",
   "metadata": {
    "tags": []
   },
   "outputs": [],
   "source": [
    "ctrp1_info=pd.read_csv('../../CellLine_HRD_DrugRes_dev/data/CTRPv1.0._INFORMER_SET.csv')\n",
    "ctrp1_info_sel=ctrp1_info[ctrp1_info['cpd_status'].isin(['clinical candidate', 'FDA-approved'])]\n",
    "ctrp1_info_sel=ctrp1_info_sel[~ctrp1_info_sel['master_cpd_id'].isna()]\n",
    "dict_cpdname_did_ctrp1={v:k for k,v in zip(ctrp1_info_sel['master_cpd_id'],ctrp1_info_sel['cpd_name'])}"
   ]
  },
  {
   "cell_type": "code",
   "execution_count": 8,
   "id": "54bdfe81-ff9d-4353-9f15-639e86142ed9",
   "metadata": {
    "tags": []
   },
   "outputs": [
    {
     "data": {
      "text/html": [
       "<div>\n",
       "<style scoped>\n",
       "    .dataframe tbody tr th:only-of-type {\n",
       "        vertical-align: middle;\n",
       "    }\n",
       "\n",
       "    .dataframe tbody tr th {\n",
       "        vertical-align: top;\n",
       "    }\n",
       "\n",
       "    .dataframe thead th {\n",
       "        text-align: right;\n",
       "    }\n",
       "</style>\n",
       "<table border=\"1\" class=\"dataframe\">\n",
       "  <thead>\n",
       "    <tr style=\"text-align: right;\">\n",
       "      <th></th>\n",
       "      <th>cpd_name</th>\n",
       "      <th>cpd_synonym</th>\n",
       "      <th>cpd_status</th>\n",
       "      <th>target_or_activity_of_compound</th>\n",
       "      <th>gene_symbol_of_protein_target</th>\n",
       "      <th>top_test_conc_umol</th>\n",
       "      <th>percent_cpd_purity</th>\n",
       "      <th>cpd_smiles</th>\n",
       "      <th>pubchem_cid</th>\n",
       "      <th>broad_cpd_id</th>\n",
       "      <th>master_cpd_id</th>\n",
       "    </tr>\n",
       "  </thead>\n",
       "  <tbody>\n",
       "    <tr>\n",
       "      <th>308</th>\n",
       "      <td>sirolimus</td>\n",
       "      <td>rapamycin;Rapamune</td>\n",
       "      <td>FDA-approved</td>\n",
       "      <td>inhibitor of mTOR via FRB domain (in complex w...</td>\n",
       "      <td>MTOR</td>\n",
       "      <td>37.0</td>\n",
       "      <td>NaN</td>\n",
       "      <td>CO[C@@H]1C[C@H](C[C@@H](C)[C@@H]2CC(=O)[C@H](C...</td>\n",
       "      <td>NaN</td>\n",
       "      <td>BRD-A23770159</td>\n",
       "      <td>411830</td>\n",
       "    </tr>\n",
       "    <tr>\n",
       "      <th>316</th>\n",
       "      <td>tacrolimus</td>\n",
       "      <td>FK-506;fujimycin;Prograf;Advagraf;Protopic</td>\n",
       "      <td>FDA-approved</td>\n",
       "      <td>inhibitor of calcineurin (in complex with FKBP)</td>\n",
       "      <td>PPP3CA;PPP3CB;PPP3CC;PPP3R1;PPP3R2</td>\n",
       "      <td>74.0</td>\n",
       "      <td>NaN</td>\n",
       "      <td>CO[C@@H]1CC(CC[C@H]1O)\\C=C(/C)\\[C@H]2OC(=O)[C@...</td>\n",
       "      <td>NaN</td>\n",
       "      <td>BRD-K08845546</td>\n",
       "      <td>55450</td>\n",
       "    </tr>\n",
       "  </tbody>\n",
       "</table>\n",
       "</div>"
      ],
      "text/plain": [
       "       cpd_name                                 cpd_synonym    cpd_status  \\\n",
       "308   sirolimus                          rapamycin;Rapamune  FDA-approved   \n",
       "316  tacrolimus  FK-506;fujimycin;Prograf;Advagraf;Protopic  FDA-approved   \n",
       "\n",
       "                        target_or_activity_of_compound  \\\n",
       "308  inhibitor of mTOR via FRB domain (in complex w...   \n",
       "316    inhibitor of calcineurin (in complex with FKBP)   \n",
       "\n",
       "          gene_symbol_of_protein_target  top_test_conc_umol  \\\n",
       "308                                MTOR                37.0   \n",
       "316  PPP3CA;PPP3CB;PPP3CC;PPP3R1;PPP3R2                74.0   \n",
       "\n",
       "     percent_cpd_purity                                         cpd_smiles  \\\n",
       "308                 NaN  CO[C@@H]1C[C@H](C[C@@H](C)[C@@H]2CC(=O)[C@H](C...   \n",
       "316                 NaN  CO[C@@H]1CC(CC[C@H]1O)\\C=C(/C)\\[C@H]2OC(=O)[C@...   \n",
       "\n",
       "     pubchem_cid   broad_cpd_id  master_cpd_id  \n",
       "308          NaN  BRD-A23770159         411830  \n",
       "316          NaN  BRD-K08845546          55450  "
      ]
     },
     "execution_count": 8,
     "metadata": {},
     "output_type": "execute_result"
    }
   ],
   "source": [
    "ctrp1_info_sel[ctrp1_info_sel['pubchem_cid'].isna()]"
   ]
  },
  {
   "cell_type": "code",
   "execution_count": 9,
   "id": "749dd4fc-0393-4d59-a431-0a72ce433190",
   "metadata": {
    "tags": []
   },
   "outputs": [],
   "source": [
    "ctrp1_info_sel.loc[308,'pubchem_cid']=5284616\n",
    "ctrp1_info_sel.loc[316,'pubchem_cid']=445643"
   ]
  },
  {
   "cell_type": "markdown",
   "id": "9f57c3c9-867e-4226-a313-3c2dd324efbe",
   "metadata": {
    "tags": []
   },
   "source": [
    "## PRISM"
   ]
  },
  {
   "cell_type": "code",
   "execution_count": 10,
   "id": "7fe6f6c5-bda4-45af-8601-804c2fd1703d",
   "metadata": {
    "tags": []
   },
   "outputs": [],
   "source": [
    "prism_anno=pd.read_csv('../../CellLine_HRD_DrugRes_dev/data/PRISM_pharmacoDB_drug_info_manually_curated.txt',sep='\\t')\n",
    "prism_anno['disease.area']=prism_anno['disease.area'].fillna('NoData')"
   ]
  },
  {
   "cell_type": "code",
   "execution_count": 11,
   "id": "50d4af22-8622-4861-a5b5-d0e82ca5d147",
   "metadata": {
    "tags": []
   },
   "outputs": [],
   "source": [
    "flag=prism_anno['disease.area'].str.contains('oncology')|prism_anno['disease.area'].str.contains('malignancy')\n",
    "prism_anno=prism_anno[flag]\n",
    "prism_anno=prism_anno[~prism_anno['cid'].isna()]\n",
    "prism_anno['cid']=prism_anno['cid'].astype(int)                    "
   ]
  },
  {
   "cell_type": "code",
   "execution_count": 12,
   "id": "a84dd529-8bda-49e1-8b5a-f46bbc5afaba",
   "metadata": {
    "tags": []
   },
   "outputs": [],
   "source": [
    "prism_anno_dup=prism_anno[prism_anno['broad_id'].str.contains('///')]\n",
    "prism_anno_ndup=prism_anno[~prism_anno['broad_id'].str.contains('///')]"
   ]
  },
  {
   "cell_type": "code",
   "execution_count": 13,
   "id": "99351196-0709-4d87-ae01-39c7eed25348",
   "metadata": {
    "tags": []
   },
   "outputs": [],
   "source": [
    "dupids=prism_anno_dup['broad_id']"
   ]
  },
  {
   "cell_type": "code",
   "execution_count": 14,
   "id": "769f5441-dc28-4cb4-b342-9318ca798506",
   "metadata": {
    "tags": []
   },
   "outputs": [
    {
     "data": {
      "text/html": [
       "<div>\n",
       "<style scoped>\n",
       "    .dataframe tbody tr th:only-of-type {\n",
       "        vertical-align: middle;\n",
       "    }\n",
       "\n",
       "    .dataframe tbody tr th {\n",
       "        vertical-align: top;\n",
       "    }\n",
       "\n",
       "    .dataframe thead th {\n",
       "        text-align: right;\n",
       "    }\n",
       "</style>\n",
       "<table border=\"1\" class=\"dataframe\">\n",
       "  <thead>\n",
       "    <tr style=\"text-align: right;\">\n",
       "      <th></th>\n",
       "      <th>Unnamed: 0</th>\n",
       "      <th>PRISM.drugid</th>\n",
       "      <th>broad_id</th>\n",
       "      <th>compound_plate</th>\n",
       "      <th>moa</th>\n",
       "      <th>target</th>\n",
       "      <th>disease.area</th>\n",
       "      <th>indication</th>\n",
       "      <th>smiles</th>\n",
       "      <th>phase</th>\n",
       "      <th>drugid</th>\n",
       "      <th>cid</th>\n",
       "      <th>inchikey</th>\n",
       "    </tr>\n",
       "  </thead>\n",
       "  <tbody>\n",
       "    <tr>\n",
       "      <th>33</th>\n",
       "      <td>Abiraterone-acetate</td>\n",
       "      <td>abiraterone-acetate</td>\n",
       "      <td>BRD-K50071428-001-03-3</td>\n",
       "      <td>PREP020</td>\n",
       "      <td>androgen biosynthesis inhibitor</td>\n",
       "      <td>CYP11B1, CYP17A1///CYP17A1</td>\n",
       "      <td>oncology</td>\n",
       "      <td>prostate cancer</td>\n",
       "      <td>CC(=O)O[C@H]1CC[C@]2(C)[C@H]3CC[C@@]4(C)[C@@H]...</td>\n",
       "      <td>Launched</td>\n",
       "      <td>Abiraterone</td>\n",
       "      <td>9821849</td>\n",
       "      <td>GZOSMCIZMLWJML-VJLLXTKPSA-N</td>\n",
       "    </tr>\n",
       "    <tr>\n",
       "      <th>33</th>\n",
       "      <td>Abiraterone-acetate</td>\n",
       "      <td>abiraterone-acetate</td>\n",
       "      <td>BRD-K24048528-001-02-5</td>\n",
       "      <td>PREP020</td>\n",
       "      <td>androgen biosynthesis inhibitor</td>\n",
       "      <td>CYP11B1, CYP17A1///CYP17A1</td>\n",
       "      <td>oncology</td>\n",
       "      <td>prostate cancer</td>\n",
       "      <td>CC(=O)O[C@H]1CC[C@]2(C)[C@H]3CC[C@@]4(C)[C@@H]...</td>\n",
       "      <td>Launched</td>\n",
       "      <td>Abiraterone</td>\n",
       "      <td>9821849</td>\n",
       "      <td>GZOSMCIZMLWJML-VJLLXTKPSA-N</td>\n",
       "    </tr>\n",
       "    <tr>\n",
       "      <th>54</th>\n",
       "      <td>Afatinib</td>\n",
       "      <td>afatinib</td>\n",
       "      <td>BRD-K66175015-001-12-4</td>\n",
       "      <td>PROS003_PR500///PREP021</td>\n",
       "      <td>EGFR inhibitor</td>\n",
       "      <td>EGFR, ERBB2, ERBB4</td>\n",
       "      <td>oncology</td>\n",
       "      <td>non-small cell lung cancer (NSCLC)</td>\n",
       "      <td>CN(C)C\\C=C\\C(=O)Nc1cc2c(Nc3ccc(F)c(Cl)c3)ncnc2...</td>\n",
       "      <td>Launched</td>\n",
       "      <td>Afatinib</td>\n",
       "      <td>10184653</td>\n",
       "      <td>ULXXDDBFHOBEHA-CWDCEQMOSA-N</td>\n",
       "    </tr>\n",
       "    <tr>\n",
       "      <th>54</th>\n",
       "      <td>Afatinib</td>\n",
       "      <td>afatinib</td>\n",
       "      <td>BRD-K66175015-001-09-0</td>\n",
       "      <td>PROS003_PR500///PREP021</td>\n",
       "      <td>EGFR inhibitor</td>\n",
       "      <td>EGFR, ERBB2, ERBB4</td>\n",
       "      <td>oncology</td>\n",
       "      <td>non-small cell lung cancer (NSCLC)</td>\n",
       "      <td>CN(C)C\\C=C\\C(=O)Nc1cc2c(Nc3ccc(F)c(Cl)c3)ncnc2...</td>\n",
       "      <td>Launched</td>\n",
       "      <td>Afatinib</td>\n",
       "      <td>10184653</td>\n",
       "      <td>ULXXDDBFHOBEHA-CWDCEQMOSA-N</td>\n",
       "    </tr>\n",
       "    <tr>\n",
       "      <th>59</th>\n",
       "      <td>Alectinib</td>\n",
       "      <td>alectinib</td>\n",
       "      <td>BRD-K11267252-001-04-4</td>\n",
       "      <td>PREP020///PROS003_PR500</td>\n",
       "      <td>ALK tyrosine kinase receptor inhibitor</td>\n",
       "      <td>ALK, MET</td>\n",
       "      <td>oncology</td>\n",
       "      <td>non-small cell lung cancer (NSCLC)</td>\n",
       "      <td>CCc1cc2C(=O)c3c([nH]c4cc(ccc34)C#N)C(C)(C)c2cc...</td>\n",
       "      <td>Launched</td>\n",
       "      <td>Alectinib</td>\n",
       "      <td>49806720</td>\n",
       "      <td>NaN</td>\n",
       "    </tr>\n",
       "    <tr>\n",
       "      <th>...</th>\n",
       "      <td>...</td>\n",
       "      <td>...</td>\n",
       "      <td>...</td>\n",
       "      <td>...</td>\n",
       "      <td>...</td>\n",
       "      <td>...</td>\n",
       "      <td>...</td>\n",
       "      <td>...</td>\n",
       "      <td>...</td>\n",
       "      <td>...</td>\n",
       "      <td>...</td>\n",
       "      <td>...</td>\n",
       "      <td>...</td>\n",
       "    </tr>\n",
       "    <tr>\n",
       "      <th>1379</th>\n",
       "      <td>Vemurafenib</td>\n",
       "      <td>vemurafenib</td>\n",
       "      <td>BRD-K56343971-001-10-6</td>\n",
       "      <td>PROS004_PR500///PREP022</td>\n",
       "      <td>RAF inhibitor</td>\n",
       "      <td>BRAF, RAF1</td>\n",
       "      <td>oncology</td>\n",
       "      <td>melanoma</td>\n",
       "      <td>CCCS(=O)(=O)Nc1ccc(F)c(C(=O)c2c[nH]c3ncc(cc23)...</td>\n",
       "      <td>Launched</td>\n",
       "      <td>Vemurafenib</td>\n",
       "      <td>42611257</td>\n",
       "      <td>GPXBXXGIAQBQNI-UHFFFAOYSA-N</td>\n",
       "    </tr>\n",
       "    <tr>\n",
       "      <th>1380</th>\n",
       "      <td>Venetoclax</td>\n",
       "      <td>venetoclax</td>\n",
       "      <td>BRD-K62391742-001-09-7</td>\n",
       "      <td>PROS001_PR500///PREP045</td>\n",
       "      <td>BCL inhibitor</td>\n",
       "      <td>BCL2</td>\n",
       "      <td>hematologic malignancy</td>\n",
       "      <td>chronic lymphocytic leukemia (CLL)</td>\n",
       "      <td>CC1(C)CCC(CN2CCN(CC2)c2ccc(C(=O)NS(=O)(=O)c3cc...</td>\n",
       "      <td>Launched</td>\n",
       "      <td>Venetoclax</td>\n",
       "      <td>49846579</td>\n",
       "      <td>NaN</td>\n",
       "    </tr>\n",
       "    <tr>\n",
       "      <th>1380</th>\n",
       "      <td>Venetoclax</td>\n",
       "      <td>venetoclax</td>\n",
       "      <td>BRD-K62391742-001-03-0</td>\n",
       "      <td>PROS001_PR500///PREP045</td>\n",
       "      <td>BCL inhibitor</td>\n",
       "      <td>BCL2</td>\n",
       "      <td>hematologic malignancy</td>\n",
       "      <td>chronic lymphocytic leukemia (CLL)</td>\n",
       "      <td>CC1(C)CCC(CN2CCN(CC2)c2ccc(C(=O)NS(=O)(=O)c3cc...</td>\n",
       "      <td>Launched</td>\n",
       "      <td>Venetoclax</td>\n",
       "      <td>49846579</td>\n",
       "      <td>NaN</td>\n",
       "    </tr>\n",
       "    <tr>\n",
       "      <th>1394</th>\n",
       "      <td>Vorinostat</td>\n",
       "      <td>vorinostat</td>\n",
       "      <td>BRD-K81418486-001-47-5</td>\n",
       "      <td>PREP048///PROS001_PR500</td>\n",
       "      <td>HDAC inhibitor</td>\n",
       "      <td>HDAC1, HDAC10, HDAC11, HDAC2, HDAC3, HDAC5, HD...</td>\n",
       "      <td>hematologic malignancy</td>\n",
       "      <td>cutaneous T-cell lymphoma (CTCL)</td>\n",
       "      <td>ONC(=O)CCCCCCC(=O)Nc1ccccc1, ONC(=O)CCCCCCC(=O...</td>\n",
       "      <td>Launched</td>\n",
       "      <td>Vorinostat</td>\n",
       "      <td>5311</td>\n",
       "      <td>WAEXFXRVDQXREF-UHFFFAOYSA-N</td>\n",
       "    </tr>\n",
       "    <tr>\n",
       "      <th>1394</th>\n",
       "      <td>Vorinostat</td>\n",
       "      <td>vorinostat</td>\n",
       "      <td>BRD-K81418486-001-44-2</td>\n",
       "      <td>PREP048///PROS001_PR500</td>\n",
       "      <td>HDAC inhibitor</td>\n",
       "      <td>HDAC1, HDAC10, HDAC11, HDAC2, HDAC3, HDAC5, HD...</td>\n",
       "      <td>hematologic malignancy</td>\n",
       "      <td>cutaneous T-cell lymphoma (CTCL)</td>\n",
       "      <td>ONC(=O)CCCCCCC(=O)Nc1ccccc1, ONC(=O)CCCCCCC(=O...</td>\n",
       "      <td>Launched</td>\n",
       "      <td>Vorinostat</td>\n",
       "      <td>5311</td>\n",
       "      <td>WAEXFXRVDQXREF-UHFFFAOYSA-N</td>\n",
       "    </tr>\n",
       "  </tbody>\n",
       "</table>\n",
       "<p>62 rows × 13 columns</p>\n",
       "</div>"
      ],
      "text/plain": [
       "               Unnamed: 0         PRISM.drugid                broad_id  \\\n",
       "33    Abiraterone-acetate  abiraterone-acetate  BRD-K50071428-001-03-3   \n",
       "33    Abiraterone-acetate  abiraterone-acetate  BRD-K24048528-001-02-5   \n",
       "54               Afatinib             afatinib  BRD-K66175015-001-12-4   \n",
       "54               Afatinib             afatinib  BRD-K66175015-001-09-0   \n",
       "59              Alectinib            alectinib  BRD-K11267252-001-04-4   \n",
       "...                   ...                  ...                     ...   \n",
       "1379          Vemurafenib          vemurafenib  BRD-K56343971-001-10-6   \n",
       "1380           Venetoclax           venetoclax  BRD-K62391742-001-09-7   \n",
       "1380           Venetoclax           venetoclax  BRD-K62391742-001-03-0   \n",
       "1394           Vorinostat           vorinostat  BRD-K81418486-001-47-5   \n",
       "1394           Vorinostat           vorinostat  BRD-K81418486-001-44-2   \n",
       "\n",
       "               compound_plate                                     moa  \\\n",
       "33                    PREP020         androgen biosynthesis inhibitor   \n",
       "33                    PREP020         androgen biosynthesis inhibitor   \n",
       "54    PROS003_PR500///PREP021                          EGFR inhibitor   \n",
       "54    PROS003_PR500///PREP021                          EGFR inhibitor   \n",
       "59    PREP020///PROS003_PR500  ALK tyrosine kinase receptor inhibitor   \n",
       "...                       ...                                     ...   \n",
       "1379  PROS004_PR500///PREP022                           RAF inhibitor   \n",
       "1380  PROS001_PR500///PREP045                           BCL inhibitor   \n",
       "1380  PROS001_PR500///PREP045                           BCL inhibitor   \n",
       "1394  PREP048///PROS001_PR500                          HDAC inhibitor   \n",
       "1394  PREP048///PROS001_PR500                          HDAC inhibitor   \n",
       "\n",
       "                                                 target  \\\n",
       "33                           CYP11B1, CYP17A1///CYP17A1   \n",
       "33                           CYP11B1, CYP17A1///CYP17A1   \n",
       "54                                   EGFR, ERBB2, ERBB4   \n",
       "54                                   EGFR, ERBB2, ERBB4   \n",
       "59                                             ALK, MET   \n",
       "...                                                 ...   \n",
       "1379                                         BRAF, RAF1   \n",
       "1380                                               BCL2   \n",
       "1380                                               BCL2   \n",
       "1394  HDAC1, HDAC10, HDAC11, HDAC2, HDAC3, HDAC5, HD...   \n",
       "1394  HDAC1, HDAC10, HDAC11, HDAC2, HDAC3, HDAC5, HD...   \n",
       "\n",
       "                disease.area                          indication  \\\n",
       "33                  oncology                     prostate cancer   \n",
       "33                  oncology                     prostate cancer   \n",
       "54                  oncology  non-small cell lung cancer (NSCLC)   \n",
       "54                  oncology  non-small cell lung cancer (NSCLC)   \n",
       "59                  oncology  non-small cell lung cancer (NSCLC)   \n",
       "...                      ...                                 ...   \n",
       "1379                oncology                            melanoma   \n",
       "1380  hematologic malignancy  chronic lymphocytic leukemia (CLL)   \n",
       "1380  hematologic malignancy  chronic lymphocytic leukemia (CLL)   \n",
       "1394  hematologic malignancy    cutaneous T-cell lymphoma (CTCL)   \n",
       "1394  hematologic malignancy    cutaneous T-cell lymphoma (CTCL)   \n",
       "\n",
       "                                                 smiles     phase  \\\n",
       "33    CC(=O)O[C@H]1CC[C@]2(C)[C@H]3CC[C@@]4(C)[C@@H]...  Launched   \n",
       "33    CC(=O)O[C@H]1CC[C@]2(C)[C@H]3CC[C@@]4(C)[C@@H]...  Launched   \n",
       "54    CN(C)C\\C=C\\C(=O)Nc1cc2c(Nc3ccc(F)c(Cl)c3)ncnc2...  Launched   \n",
       "54    CN(C)C\\C=C\\C(=O)Nc1cc2c(Nc3ccc(F)c(Cl)c3)ncnc2...  Launched   \n",
       "59    CCc1cc2C(=O)c3c([nH]c4cc(ccc34)C#N)C(C)(C)c2cc...  Launched   \n",
       "...                                                 ...       ...   \n",
       "1379  CCCS(=O)(=O)Nc1ccc(F)c(C(=O)c2c[nH]c3ncc(cc23)...  Launched   \n",
       "1380  CC1(C)CCC(CN2CCN(CC2)c2ccc(C(=O)NS(=O)(=O)c3cc...  Launched   \n",
       "1380  CC1(C)CCC(CN2CCN(CC2)c2ccc(C(=O)NS(=O)(=O)c3cc...  Launched   \n",
       "1394  ONC(=O)CCCCCCC(=O)Nc1ccccc1, ONC(=O)CCCCCCC(=O...  Launched   \n",
       "1394  ONC(=O)CCCCCCC(=O)Nc1ccccc1, ONC(=O)CCCCCCC(=O...  Launched   \n",
       "\n",
       "           drugid       cid                     inchikey  \n",
       "33    Abiraterone   9821849  GZOSMCIZMLWJML-VJLLXTKPSA-N  \n",
       "33    Abiraterone   9821849  GZOSMCIZMLWJML-VJLLXTKPSA-N  \n",
       "54       Afatinib  10184653  ULXXDDBFHOBEHA-CWDCEQMOSA-N  \n",
       "54       Afatinib  10184653  ULXXDDBFHOBEHA-CWDCEQMOSA-N  \n",
       "59      Alectinib  49806720                          NaN  \n",
       "...           ...       ...                          ...  \n",
       "1379  Vemurafenib  42611257  GPXBXXGIAQBQNI-UHFFFAOYSA-N  \n",
       "1380   Venetoclax  49846579                          NaN  \n",
       "1380   Venetoclax  49846579                          NaN  \n",
       "1394   Vorinostat      5311  WAEXFXRVDQXREF-UHFFFAOYSA-N  \n",
       "1394   Vorinostat      5311  WAEXFXRVDQXREF-UHFFFAOYSA-N  \n",
       "\n",
       "[62 rows x 13 columns]"
      ]
     },
     "execution_count": 14,
     "metadata": {},
     "output_type": "execute_result"
    }
   ],
   "source": [
    "adds=[]\n",
    "for dupid in dupids:\n",
    "    bids=dupid.split('///')\n",
    "    add=prism_anno_dup[prism_anno_dup['broad_id']==dupid]\n",
    "    add=pd.concat([add,add])\n",
    "    add.loc[:,'broad_id']=bids\n",
    "    adds.append(add)\n",
    "prism_anno_dup_c=pd.concat(adds)\n",
    "prism_anno_dup_c"
   ]
  },
  {
   "cell_type": "code",
   "execution_count": 15,
   "id": "34512b1b-4f2c-47ec-8049-8638b65ccd06",
   "metadata": {
    "tags": []
   },
   "outputs": [
    {
     "data": {
      "text/html": [
       "<div>\n",
       "<style scoped>\n",
       "    .dataframe tbody tr th:only-of-type {\n",
       "        vertical-align: middle;\n",
       "    }\n",
       "\n",
       "    .dataframe tbody tr th {\n",
       "        vertical-align: top;\n",
       "    }\n",
       "\n",
       "    .dataframe thead th {\n",
       "        text-align: right;\n",
       "    }\n",
       "</style>\n",
       "<table border=\"1\" class=\"dataframe\">\n",
       "  <thead>\n",
       "    <tr style=\"text-align: right;\">\n",
       "      <th></th>\n",
       "      <th>Unnamed: 0</th>\n",
       "      <th>PRISM.drugid</th>\n",
       "      <th>broad_id</th>\n",
       "      <th>compound_plate</th>\n",
       "      <th>moa</th>\n",
       "      <th>target</th>\n",
       "      <th>disease.area</th>\n",
       "      <th>indication</th>\n",
       "      <th>smiles</th>\n",
       "      <th>phase</th>\n",
       "      <th>drugid</th>\n",
       "      <th>cid</th>\n",
       "      <th>inchikey</th>\n",
       "    </tr>\n",
       "  </thead>\n",
       "  <tbody>\n",
       "    <tr>\n",
       "      <th>32</th>\n",
       "      <td>Abiraterone</td>\n",
       "      <td>abiraterone</td>\n",
       "      <td>BRD-K50071428-001-03-3</td>\n",
       "      <td>PREP031</td>\n",
       "      <td>androgen biosynthesis inhibitor</td>\n",
       "      <td>CYP11B1, CYP17A1///CYP17A1</td>\n",
       "      <td>oncology</td>\n",
       "      <td>prostate cancer</td>\n",
       "      <td>C[C@]12CC[C@H]3[C@@H](CC=C4C[C@@H](O)CC[C@]34C...</td>\n",
       "      <td>Launched</td>\n",
       "      <td>Abiraterone</td>\n",
       "      <td>132971</td>\n",
       "      <td>GZOSMCIZMLWJML-VJLLXTKPSA-N</td>\n",
       "    </tr>\n",
       "    <tr>\n",
       "      <th>33</th>\n",
       "      <td>Abiraterone-acetate</td>\n",
       "      <td>abiraterone-acetate</td>\n",
       "      <td>BRD-K50071428-001-03-3</td>\n",
       "      <td>PREP020</td>\n",
       "      <td>androgen biosynthesis inhibitor</td>\n",
       "      <td>CYP11B1, CYP17A1///CYP17A1</td>\n",
       "      <td>oncology</td>\n",
       "      <td>prostate cancer</td>\n",
       "      <td>CC(=O)O[C@H]1CC[C@]2(C)[C@H]3CC[C@@]4(C)[C@@H]...</td>\n",
       "      <td>Launched</td>\n",
       "      <td>Abiraterone</td>\n",
       "      <td>9821849</td>\n",
       "      <td>GZOSMCIZMLWJML-VJLLXTKPSA-N</td>\n",
       "    </tr>\n",
       "  </tbody>\n",
       "</table>\n",
       "</div>"
      ],
      "text/plain": [
       "             Unnamed: 0         PRISM.drugid                broad_id  \\\n",
       "32          Abiraterone          abiraterone  BRD-K50071428-001-03-3   \n",
       "33  Abiraterone-acetate  abiraterone-acetate  BRD-K50071428-001-03-3   \n",
       "\n",
       "   compound_plate                              moa  \\\n",
       "32        PREP031  androgen biosynthesis inhibitor   \n",
       "33        PREP020  androgen biosynthesis inhibitor   \n",
       "\n",
       "                        target disease.area       indication  \\\n",
       "32  CYP11B1, CYP17A1///CYP17A1     oncology  prostate cancer   \n",
       "33  CYP11B1, CYP17A1///CYP17A1     oncology  prostate cancer   \n",
       "\n",
       "                                               smiles     phase       drugid  \\\n",
       "32  C[C@]12CC[C@H]3[C@@H](CC=C4C[C@@H](O)CC[C@]34C...  Launched  Abiraterone   \n",
       "33  CC(=O)O[C@H]1CC[C@]2(C)[C@H]3CC[C@@]4(C)[C@@H]...  Launched  Abiraterone   \n",
       "\n",
       "        cid                     inchikey  \n",
       "32   132971  GZOSMCIZMLWJML-VJLLXTKPSA-N  \n",
       "33  9821849  GZOSMCIZMLWJML-VJLLXTKPSA-N  "
      ]
     },
     "execution_count": 15,
     "metadata": {},
     "output_type": "execute_result"
    }
   ],
   "source": [
    "prism_anno_r=pd.concat([prism_anno_ndup,prism_anno_dup_c])\n",
    "bid_dup=prism_anno_r[prism_anno_r['broad_id'].duplicated()]['broad_id'].values[0]\n",
    "prism_anno_r[prism_anno_r['broad_id']==bid_dup]"
   ]
  },
  {
   "cell_type": "code",
   "execution_count": 16,
   "id": "0157bcb6-3af0-4c78-9e4d-978c0db10659",
   "metadata": {
    "tags": []
   },
   "outputs": [
    {
     "data": {
      "text/html": [
       "<div>\n",
       "<style scoped>\n",
       "    .dataframe tbody tr th:only-of-type {\n",
       "        vertical-align: middle;\n",
       "    }\n",
       "\n",
       "    .dataframe tbody tr th {\n",
       "        vertical-align: top;\n",
       "    }\n",
       "\n",
       "    .dataframe thead th {\n",
       "        text-align: right;\n",
       "    }\n",
       "</style>\n",
       "<table border=\"1\" class=\"dataframe\">\n",
       "  <thead>\n",
       "    <tr style=\"text-align: right;\">\n",
       "      <th></th>\n",
       "      <th>Unnamed: 0</th>\n",
       "      <th>PRISM.drugid</th>\n",
       "      <th>broad_id</th>\n",
       "      <th>compound_plate</th>\n",
       "      <th>moa</th>\n",
       "      <th>target</th>\n",
       "      <th>disease.area</th>\n",
       "      <th>indication</th>\n",
       "      <th>smiles</th>\n",
       "      <th>phase</th>\n",
       "      <th>drugid</th>\n",
       "      <th>cid</th>\n",
       "      <th>inchikey</th>\n",
       "    </tr>\n",
       "  </thead>\n",
       "  <tbody>\n",
       "    <tr>\n",
       "      <th>33</th>\n",
       "      <td>Abiraterone-acetate</td>\n",
       "      <td>abiraterone-acetate</td>\n",
       "      <td>BRD-K50071428-001-03-3</td>\n",
       "      <td>PREP020</td>\n",
       "      <td>androgen biosynthesis inhibitor</td>\n",
       "      <td>CYP11B1, CYP17A1///CYP17A1</td>\n",
       "      <td>oncology</td>\n",
       "      <td>prostate cancer</td>\n",
       "      <td>CC(=O)O[C@H]1CC[C@]2(C)[C@H]3CC[C@@]4(C)[C@@H]...</td>\n",
       "      <td>Launched</td>\n",
       "      <td>Abiraterone</td>\n",
       "      <td>9821849</td>\n",
       "      <td>GZOSMCIZMLWJML-VJLLXTKPSA-N</td>\n",
       "    </tr>\n",
       "    <tr>\n",
       "      <th>33</th>\n",
       "      <td>Abiraterone-acetate</td>\n",
       "      <td>abiraterone-acetate</td>\n",
       "      <td>BRD-K24048528-001-02-5</td>\n",
       "      <td>PREP020</td>\n",
       "      <td>androgen biosynthesis inhibitor</td>\n",
       "      <td>CYP11B1, CYP17A1///CYP17A1</td>\n",
       "      <td>oncology</td>\n",
       "      <td>prostate cancer</td>\n",
       "      <td>CC(=O)O[C@H]1CC[C@]2(C)[C@H]3CC[C@@]4(C)[C@@H]...</td>\n",
       "      <td>Launched</td>\n",
       "      <td>Abiraterone</td>\n",
       "      <td>9821849</td>\n",
       "      <td>GZOSMCIZMLWJML-VJLLXTKPSA-N</td>\n",
       "    </tr>\n",
       "    <tr>\n",
       "      <th>54</th>\n",
       "      <td>Afatinib</td>\n",
       "      <td>afatinib</td>\n",
       "      <td>BRD-K66175015-001-12-4</td>\n",
       "      <td>PROS003_PR500///PREP021</td>\n",
       "      <td>EGFR inhibitor</td>\n",
       "      <td>EGFR, ERBB2, ERBB4</td>\n",
       "      <td>oncology</td>\n",
       "      <td>non-small cell lung cancer (NSCLC)</td>\n",
       "      <td>CN(C)C\\C=C\\C(=O)Nc1cc2c(Nc3ccc(F)c(Cl)c3)ncnc2...</td>\n",
       "      <td>Launched</td>\n",
       "      <td>Afatinib</td>\n",
       "      <td>10184653</td>\n",
       "      <td>ULXXDDBFHOBEHA-CWDCEQMOSA-N</td>\n",
       "    </tr>\n",
       "    <tr>\n",
       "      <th>54</th>\n",
       "      <td>Afatinib</td>\n",
       "      <td>afatinib</td>\n",
       "      <td>BRD-K66175015-001-09-0</td>\n",
       "      <td>PROS003_PR500///PREP021</td>\n",
       "      <td>EGFR inhibitor</td>\n",
       "      <td>EGFR, ERBB2, ERBB4</td>\n",
       "      <td>oncology</td>\n",
       "      <td>non-small cell lung cancer (NSCLC)</td>\n",
       "      <td>CN(C)C\\C=C\\C(=O)Nc1cc2c(Nc3ccc(F)c(Cl)c3)ncnc2...</td>\n",
       "      <td>Launched</td>\n",
       "      <td>Afatinib</td>\n",
       "      <td>10184653</td>\n",
       "      <td>ULXXDDBFHOBEHA-CWDCEQMOSA-N</td>\n",
       "    </tr>\n",
       "    <tr>\n",
       "      <th>59</th>\n",
       "      <td>Alectinib</td>\n",
       "      <td>alectinib</td>\n",
       "      <td>BRD-K11267252-001-04-4</td>\n",
       "      <td>PREP020///PROS003_PR500</td>\n",
       "      <td>ALK tyrosine kinase receptor inhibitor</td>\n",
       "      <td>ALK, MET</td>\n",
       "      <td>oncology</td>\n",
       "      <td>non-small cell lung cancer (NSCLC)</td>\n",
       "      <td>CCc1cc2C(=O)c3c([nH]c4cc(ccc34)C#N)C(C)(C)c2cc...</td>\n",
       "      <td>Launched</td>\n",
       "      <td>Alectinib</td>\n",
       "      <td>49806720</td>\n",
       "      <td>NaN</td>\n",
       "    </tr>\n",
       "    <tr>\n",
       "      <th>...</th>\n",
       "      <td>...</td>\n",
       "      <td>...</td>\n",
       "      <td>...</td>\n",
       "      <td>...</td>\n",
       "      <td>...</td>\n",
       "      <td>...</td>\n",
       "      <td>...</td>\n",
       "      <td>...</td>\n",
       "      <td>...</td>\n",
       "      <td>...</td>\n",
       "      <td>...</td>\n",
       "      <td>...</td>\n",
       "      <td>...</td>\n",
       "    </tr>\n",
       "    <tr>\n",
       "      <th>1379</th>\n",
       "      <td>Vemurafenib</td>\n",
       "      <td>vemurafenib</td>\n",
       "      <td>BRD-K56343971-001-10-6</td>\n",
       "      <td>PROS004_PR500///PREP022</td>\n",
       "      <td>RAF inhibitor</td>\n",
       "      <td>BRAF, RAF1</td>\n",
       "      <td>oncology</td>\n",
       "      <td>melanoma</td>\n",
       "      <td>CCCS(=O)(=O)Nc1ccc(F)c(C(=O)c2c[nH]c3ncc(cc23)...</td>\n",
       "      <td>Launched</td>\n",
       "      <td>Vemurafenib</td>\n",
       "      <td>42611257</td>\n",
       "      <td>GPXBXXGIAQBQNI-UHFFFAOYSA-N</td>\n",
       "    </tr>\n",
       "    <tr>\n",
       "      <th>1380</th>\n",
       "      <td>Venetoclax</td>\n",
       "      <td>venetoclax</td>\n",
       "      <td>BRD-K62391742-001-09-7</td>\n",
       "      <td>PROS001_PR500///PREP045</td>\n",
       "      <td>BCL inhibitor</td>\n",
       "      <td>BCL2</td>\n",
       "      <td>hematologic malignancy</td>\n",
       "      <td>chronic lymphocytic leukemia (CLL)</td>\n",
       "      <td>CC1(C)CCC(CN2CCN(CC2)c2ccc(C(=O)NS(=O)(=O)c3cc...</td>\n",
       "      <td>Launched</td>\n",
       "      <td>Venetoclax</td>\n",
       "      <td>49846579</td>\n",
       "      <td>NaN</td>\n",
       "    </tr>\n",
       "    <tr>\n",
       "      <th>1380</th>\n",
       "      <td>Venetoclax</td>\n",
       "      <td>venetoclax</td>\n",
       "      <td>BRD-K62391742-001-03-0</td>\n",
       "      <td>PROS001_PR500///PREP045</td>\n",
       "      <td>BCL inhibitor</td>\n",
       "      <td>BCL2</td>\n",
       "      <td>hematologic malignancy</td>\n",
       "      <td>chronic lymphocytic leukemia (CLL)</td>\n",
       "      <td>CC1(C)CCC(CN2CCN(CC2)c2ccc(C(=O)NS(=O)(=O)c3cc...</td>\n",
       "      <td>Launched</td>\n",
       "      <td>Venetoclax</td>\n",
       "      <td>49846579</td>\n",
       "      <td>NaN</td>\n",
       "    </tr>\n",
       "    <tr>\n",
       "      <th>1394</th>\n",
       "      <td>Vorinostat</td>\n",
       "      <td>vorinostat</td>\n",
       "      <td>BRD-K81418486-001-47-5</td>\n",
       "      <td>PREP048///PROS001_PR500</td>\n",
       "      <td>HDAC inhibitor</td>\n",
       "      <td>HDAC1, HDAC10, HDAC11, HDAC2, HDAC3, HDAC5, HD...</td>\n",
       "      <td>hematologic malignancy</td>\n",
       "      <td>cutaneous T-cell lymphoma (CTCL)</td>\n",
       "      <td>ONC(=O)CCCCCCC(=O)Nc1ccccc1, ONC(=O)CCCCCCC(=O...</td>\n",
       "      <td>Launched</td>\n",
       "      <td>Vorinostat</td>\n",
       "      <td>5311</td>\n",
       "      <td>WAEXFXRVDQXREF-UHFFFAOYSA-N</td>\n",
       "    </tr>\n",
       "    <tr>\n",
       "      <th>1394</th>\n",
       "      <td>Vorinostat</td>\n",
       "      <td>vorinostat</td>\n",
       "      <td>BRD-K81418486-001-44-2</td>\n",
       "      <td>PREP048///PROS001_PR500</td>\n",
       "      <td>HDAC inhibitor</td>\n",
       "      <td>HDAC1, HDAC10, HDAC11, HDAC2, HDAC3, HDAC5, HD...</td>\n",
       "      <td>hematologic malignancy</td>\n",
       "      <td>cutaneous T-cell lymphoma (CTCL)</td>\n",
       "      <td>ONC(=O)CCCCCCC(=O)Nc1ccccc1, ONC(=O)CCCCCCC(=O...</td>\n",
       "      <td>Launched</td>\n",
       "      <td>Vorinostat</td>\n",
       "      <td>5311</td>\n",
       "      <td>WAEXFXRVDQXREF-UHFFFAOYSA-N</td>\n",
       "    </tr>\n",
       "  </tbody>\n",
       "</table>\n",
       "<p>62 rows × 13 columns</p>\n",
       "</div>"
      ],
      "text/plain": [
       "               Unnamed: 0         PRISM.drugid                broad_id  \\\n",
       "33    Abiraterone-acetate  abiraterone-acetate  BRD-K50071428-001-03-3   \n",
       "33    Abiraterone-acetate  abiraterone-acetate  BRD-K24048528-001-02-5   \n",
       "54               Afatinib             afatinib  BRD-K66175015-001-12-4   \n",
       "54               Afatinib             afatinib  BRD-K66175015-001-09-0   \n",
       "59              Alectinib            alectinib  BRD-K11267252-001-04-4   \n",
       "...                   ...                  ...                     ...   \n",
       "1379          Vemurafenib          vemurafenib  BRD-K56343971-001-10-6   \n",
       "1380           Venetoclax           venetoclax  BRD-K62391742-001-09-7   \n",
       "1380           Venetoclax           venetoclax  BRD-K62391742-001-03-0   \n",
       "1394           Vorinostat           vorinostat  BRD-K81418486-001-47-5   \n",
       "1394           Vorinostat           vorinostat  BRD-K81418486-001-44-2   \n",
       "\n",
       "               compound_plate                                     moa  \\\n",
       "33                    PREP020         androgen biosynthesis inhibitor   \n",
       "33                    PREP020         androgen biosynthesis inhibitor   \n",
       "54    PROS003_PR500///PREP021                          EGFR inhibitor   \n",
       "54    PROS003_PR500///PREP021                          EGFR inhibitor   \n",
       "59    PREP020///PROS003_PR500  ALK tyrosine kinase receptor inhibitor   \n",
       "...                       ...                                     ...   \n",
       "1379  PROS004_PR500///PREP022                           RAF inhibitor   \n",
       "1380  PROS001_PR500///PREP045                           BCL inhibitor   \n",
       "1380  PROS001_PR500///PREP045                           BCL inhibitor   \n",
       "1394  PREP048///PROS001_PR500                          HDAC inhibitor   \n",
       "1394  PREP048///PROS001_PR500                          HDAC inhibitor   \n",
       "\n",
       "                                                 target  \\\n",
       "33                           CYP11B1, CYP17A1///CYP17A1   \n",
       "33                           CYP11B1, CYP17A1///CYP17A1   \n",
       "54                                   EGFR, ERBB2, ERBB4   \n",
       "54                                   EGFR, ERBB2, ERBB4   \n",
       "59                                             ALK, MET   \n",
       "...                                                 ...   \n",
       "1379                                         BRAF, RAF1   \n",
       "1380                                               BCL2   \n",
       "1380                                               BCL2   \n",
       "1394  HDAC1, HDAC10, HDAC11, HDAC2, HDAC3, HDAC5, HD...   \n",
       "1394  HDAC1, HDAC10, HDAC11, HDAC2, HDAC3, HDAC5, HD...   \n",
       "\n",
       "                disease.area                          indication  \\\n",
       "33                  oncology                     prostate cancer   \n",
       "33                  oncology                     prostate cancer   \n",
       "54                  oncology  non-small cell lung cancer (NSCLC)   \n",
       "54                  oncology  non-small cell lung cancer (NSCLC)   \n",
       "59                  oncology  non-small cell lung cancer (NSCLC)   \n",
       "...                      ...                                 ...   \n",
       "1379                oncology                            melanoma   \n",
       "1380  hematologic malignancy  chronic lymphocytic leukemia (CLL)   \n",
       "1380  hematologic malignancy  chronic lymphocytic leukemia (CLL)   \n",
       "1394  hematologic malignancy    cutaneous T-cell lymphoma (CTCL)   \n",
       "1394  hematologic malignancy    cutaneous T-cell lymphoma (CTCL)   \n",
       "\n",
       "                                                 smiles     phase  \\\n",
       "33    CC(=O)O[C@H]1CC[C@]2(C)[C@H]3CC[C@@]4(C)[C@@H]...  Launched   \n",
       "33    CC(=O)O[C@H]1CC[C@]2(C)[C@H]3CC[C@@]4(C)[C@@H]...  Launched   \n",
       "54    CN(C)C\\C=C\\C(=O)Nc1cc2c(Nc3ccc(F)c(Cl)c3)ncnc2...  Launched   \n",
       "54    CN(C)C\\C=C\\C(=O)Nc1cc2c(Nc3ccc(F)c(Cl)c3)ncnc2...  Launched   \n",
       "59    CCc1cc2C(=O)c3c([nH]c4cc(ccc34)C#N)C(C)(C)c2cc...  Launched   \n",
       "...                                                 ...       ...   \n",
       "1379  CCCS(=O)(=O)Nc1ccc(F)c(C(=O)c2c[nH]c3ncc(cc23)...  Launched   \n",
       "1380  CC1(C)CCC(CN2CCN(CC2)c2ccc(C(=O)NS(=O)(=O)c3cc...  Launched   \n",
       "1380  CC1(C)CCC(CN2CCN(CC2)c2ccc(C(=O)NS(=O)(=O)c3cc...  Launched   \n",
       "1394  ONC(=O)CCCCCCC(=O)Nc1ccccc1, ONC(=O)CCCCCCC(=O...  Launched   \n",
       "1394  ONC(=O)CCCCCCC(=O)Nc1ccccc1, ONC(=O)CCCCCCC(=O...  Launched   \n",
       "\n",
       "           drugid       cid                     inchikey  \n",
       "33    Abiraterone   9821849  GZOSMCIZMLWJML-VJLLXTKPSA-N  \n",
       "33    Abiraterone   9821849  GZOSMCIZMLWJML-VJLLXTKPSA-N  \n",
       "54       Afatinib  10184653  ULXXDDBFHOBEHA-CWDCEQMOSA-N  \n",
       "54       Afatinib  10184653  ULXXDDBFHOBEHA-CWDCEQMOSA-N  \n",
       "59      Alectinib  49806720                          NaN  \n",
       "...           ...       ...                          ...  \n",
       "1379  Vemurafenib  42611257  GPXBXXGIAQBQNI-UHFFFAOYSA-N  \n",
       "1380   Venetoclax  49846579                          NaN  \n",
       "1380   Venetoclax  49846579                          NaN  \n",
       "1394   Vorinostat      5311  WAEXFXRVDQXREF-UHFFFAOYSA-N  \n",
       "1394   Vorinostat      5311  WAEXFXRVDQXREF-UHFFFAOYSA-N  \n",
       "\n",
       "[62 rows x 13 columns]"
      ]
     },
     "execution_count": 16,
     "metadata": {},
     "output_type": "execute_result"
    }
   ],
   "source": [
    "did_dup=prism_anno_r[prism_anno_r['PRISM.drugid'].duplicated()]['PRISM.drugid']\n",
    "prism_anno_r[prism_anno_r['PRISM.drugid'].isin(did_dup)]"
   ]
  },
  {
   "cell_type": "code",
   "execution_count": 17,
   "id": "a4b939c7-b187-4837-a9a9-783becf6df54",
   "metadata": {
    "tags": []
   },
   "outputs": [],
   "source": [
    "prism_info_sel=prism_anno_r[~prism_anno_r['broad_id'].duplicated()]\n",
    "prism_info_sel=prism_info_sel.reset_index(drop=True)"
   ]
  },
  {
   "cell_type": "markdown",
   "id": "e1c2a5ab-1cc4-41a8-9354-c60d2737c9a7",
   "metadata": {
    "tags": []
   },
   "source": [
    "## gCSI"
   ]
  },
  {
   "cell_type": "code",
   "execution_count": 18,
   "id": "d8910e44-1816-41f2-bc72-6519565abf0a",
   "metadata": {
    "tags": []
   },
   "outputs": [
    {
     "name": "stderr",
     "output_type": "stream",
     "text": [
      "/var/folders/3g/5zyn6dld5rl1rc3t1fmh0t240000gn/T/ipykernel_43640/1917833672.py:4: SettingWithCopyWarning: \n",
      "A value is trying to be set on a copy of a slice from a DataFrame.\n",
      "Try using .loc[row_indexer,col_indexer] = value instead\n",
      "\n",
      "See the caveats in the documentation: https://pandas.pydata.org/pandas-docs/stable/user_guide/indexing.html#returning-a-view-versus-a-copy\n",
      "  gcsi_info_sel['cid']=gcsi_info_sel['cid'].astype(int).astype(str)\n"
     ]
    }
   ],
   "source": [
    "gcsi_anno=pd.read_csv('../../CellLine_HRD_DrugRes_dev/data/gCSI2019_drug_info.txt'\n",
    "                     ,sep='\\t',index_col=0)\n",
    "gcsi_info_sel=gcsi_anno[~gcsi_anno['cid'].isna()]\n",
    "gcsi_info_sel['cid']=gcsi_info_sel['cid'].astype(int).astype(str)"
   ]
  },
  {
   "cell_type": "code",
   "execution_count": 19,
   "id": "bd096c55-60f0-4f86-a24b-56c22c0a2b3e",
   "metadata": {
    "tags": []
   },
   "outputs": [],
   "source": [
    "cids= set(gdsc1_info_sel['pubchem'].astype(int))|set(gdsc2_info_sel['pubchem'].astype(int))|set(ctrp2_info_sel['cid'].astype(int))|\\\n",
    "set(prism_info_sel['cid'].astype(int))|set(gcsi_info_sel['cid'].astype(int))|set(ctrp1_info_sel['pubchem_cid'].astype(int))\n",
    "cids=sorted(cids)[1:]\n",
    "with open('../processed_data/'+'All_cids.csv','w') as fw:\n",
    "    fw.write( '\\n'.join(list(map(str,cids)))+'\\n' )"
   ]
  },
  {
   "cell_type": "markdown",
   "id": "2519b2be-6325-4fa1-a780-d48accdf5264",
   "metadata": {
    "tags": []
   },
   "source": [
    "* this file is converted by Pubchem website, https://pubchem.ncbi.nlm.nih.gov/#upload=true\n",
    "to \"All_cids_from_pubchem.csv\""
   ]
  },
  {
   "cell_type": "code",
   "execution_count": 20,
   "id": "cf759f07-e1c4-4e69-b70c-ed365a140bc8",
   "metadata": {
    "tags": []
   },
   "outputs": [
    {
     "data": {
      "text/plain": [
       "0"
      ]
     },
     "execution_count": 20,
     "metadata": {},
     "output_type": "execute_result"
    }
   ],
   "source": [
    "pubchem=pd.read_csv('../processed_data/All_cids_converted_from_pubchem.csv')\n",
    "dict_cid_name={k:v for k,v in zip(pubchem['cid'],pubchem['cmpdname'])}\n",
    "pubchem['cmpdname'].duplicated().sum()"
   ]
  },
  {
   "cell_type": "markdown",
   "id": "ca2016ba-9fe8-46b9-b73f-ac232ed00a0c",
   "metadata": {
    "tags": []
   },
   "source": [
    "# Drug categorization"
   ]
  },
  {
   "cell_type": "markdown",
   "id": "56577d2d-7ff4-4fc6-9e8c-9d9a8ae69edd",
   "metadata": {},
   "source": [
    "## GDSC"
   ]
  },
  {
   "cell_type": "code",
   "execution_count": 21,
   "id": "ab709e6a-3b15-4aea-be1e-4fe67be988ec",
   "metadata": {
    "tags": []
   },
   "outputs": [
    {
     "data": {
      "text/plain": [
       "[('Other', 32),\n",
       " ('Other, kinases', 27),\n",
       " ('RTK signaling', 26),\n",
       " ('PI3K/MTOR signaling', 23),\n",
       " ('ERK MAPK signaling', 17),\n",
       " ('DNA replication', 12),\n",
       " ('Cell cycle', 12),\n",
       " ('Mitosis', 11),\n",
       " ('Chromatin histone acetylation', 10),\n",
       " ('Protein stability and degradation', 8),\n",
       " ('Genome integrity', 8),\n",
       " ('EGFR signaling', 7),\n",
       " ('Cytoskeleton', 7),\n",
       " ('Chromatin other', 6),\n",
       " ('JNK and p38 signaling', 6),\n",
       " ('Apoptosis regulation', 6),\n",
       " ('Metabolism', 5),\n",
       " ('WNT signaling', 4),\n",
       " ('Hormone-related', 3),\n",
       " ('IGF1R signaling', 3),\n",
       " ('Chromatin histone methylation', 3),\n",
       " ('p53 pathway', 3),\n",
       " ('ABL signaling', 2)]"
      ]
     },
     "execution_count": 21,
     "metadata": {},
     "output_type": "execute_result"
    }
   ],
   "source": [
    "Counter(gdsc1_info_sel['pathway_name']).most_common()"
   ]
  },
  {
   "cell_type": "code",
   "execution_count": 22,
   "id": "24bfa061-980d-4a2d-b07f-c73702a9d052",
   "metadata": {
    "tags": []
   },
   "outputs": [
    {
     "data": {
      "text/plain": [
       "[('PI3K/MTOR signaling', 21),\n",
       " ('DNA replication', 20),\n",
       " ('Other', 17),\n",
       " ('Other, kinases', 14),\n",
       " ('Genome integrity', 13),\n",
       " ('ERK MAPK signaling', 13),\n",
       " ('Apoptosis regulation', 12),\n",
       " ('RTK signaling', 11),\n",
       " ('Cell cycle', 10),\n",
       " ('WNT signaling', 9),\n",
       " ('Protein stability and degradation', 9),\n",
       " ('Mitosis', 8),\n",
       " ('EGFR signaling', 7),\n",
       " ('Chromatin histone methylation', 7),\n",
       " ('Chromatin other', 7),\n",
       " ('Hormone-related', 5),\n",
       " ('Metabolism', 4),\n",
       " ('IGF1R signaling', 4),\n",
       " ('Chromatin histone acetylation', 4),\n",
       " ('p53 pathway', 4),\n",
       " ('-', 2),\n",
       " ('JNK and p38 signaling', 2),\n",
       " ('Cytoskeleton', 2),\n",
       " ('ABL signaling', 1)]"
      ]
     },
     "execution_count": 22,
     "metadata": {},
     "output_type": "execute_result"
    }
   ],
   "source": [
    "Counter(gdsc2_info_sel['pathway_name']).most_common()"
   ]
  },
  {
   "cell_type": "code",
   "execution_count": 23,
   "id": "6c549efc-f266-460f-ae1b-97cb9f4e612b",
   "metadata": {
    "tags": []
   },
   "outputs": [
    {
     "data": {
      "text/plain": [
       "[('MEK1, MEK2', 7),\n",
       " ('BRAF', 6),\n",
       " ('HSP90', 5),\n",
       " ('PARP1, PARP2', 5),\n",
       " ('AKT1, AKT2, AKT3', 4),\n",
       " ('EGFR', 4),\n",
       " ('IGF1R, IR', 4),\n",
       " ('HDAC1', 4),\n",
       " ('EGFR, ERBB2', 3),\n",
       " ('Microtubule stabiliser', 3),\n",
       " ('GSK3A, GSK3B', 3),\n",
       " ('PI3K (class 1)', 3),\n",
       " ('ROCK1, ROCK2', 3),\n",
       " ('AR', 2),\n",
       " ('Antimetabolite', 2),\n",
       " ('dsDNA break induction', 2),\n",
       " ('CDC7', 2),\n",
       " ('MTORC1, MTORC2', 2),\n",
       " ('G9a and GLP methyltransferases', 2),\n",
       " ('Microtubule destabiliser', 2),\n",
       " ('MTOR', 2),\n",
       " ('PDK1 (PDPK1)', 2),\n",
       " ('Amyloid beta20, Amyloid beta40', 2),\n",
       " ('Farnesyl-transferase (FNTA)', 2),\n",
       " ('MDM2', 2),\n",
       " ('SMO', 2),\n",
       " ('ATM', 2),\n",
       " ('PI3K (class 1), MTORC1, MTORC2', 2),\n",
       " ('ALK', 2),\n",
       " ('BRD2, BRD3, BRD4, BRDT', 2),\n",
       " ('DNA crosslinker', 2),\n",
       " ('PI3Kbeta', 2),\n",
       " ('SRC, ABL, TEC', 1),\n",
       " ('PDGFR, KIT, VEGFR', 1),\n",
       " ('MET', 1),\n",
       " ('PKC, PPK, FLT1, c-FGR, others', 1),\n",
       " ('PB1, SMARCA4, SMARCA2', 1),\n",
       " ('JNK2, JNK3', 1),\n",
       " ('IGF1R', 1),\n",
       " ('BTK', 1),\n",
       " ('IKK1, IKK2', 1),\n",
       " ('JAK1, JAK2', 1),\n",
       " ('JNK1, JNK2, JNK2', 1),\n",
       " ('PI3Kgamma', 1),\n",
       " ('ERK5, BET', 1),\n",
       " ('ERK5', 1),\n",
       " ('EPHB4, RAF, SRC, ABL', 1),\n",
       " ('CDK9', 1),\n",
       " ('PIK3CB', 1),\n",
       " ('Pyrimidine antimetabolite', 1)]"
      ]
     },
     "execution_count": 23,
     "metadata": {},
     "output_type": "execute_result"
    }
   ],
   "source": [
    "Counter(gdsc1_info_sel['targets']).most_common()[:50]"
   ]
  },
  {
   "cell_type": "code",
   "execution_count": 24,
   "id": "db47f733-3d9d-48ca-bf5a-d9d760ac3940",
   "metadata": {
    "tags": []
   },
   "outputs": [
    {
     "data": {
      "text/plain": [
       "[('Others', 64),\n",
       " ('RTK signaling', 26),\n",
       " ('PI3K/MTOR signaling', 23),\n",
       " ('Chromatin-related', 19),\n",
       " ('ERK MAPK signaling', 17),\n",
       " ('Cell cycle', 12),\n",
       " ('Protein stability and degradation', 8),\n",
       " ('DNA inhibitor', 8),\n",
       " ('EGFR signaling', 7),\n",
       " ('Cytoskeleton', 7),\n",
       " ('JNK and p38 signaling', 6),\n",
       " ('Apoptosis regulation', 6),\n",
       " ('PARP inhibitor', 5),\n",
       " ('Antimetabolite', 5),\n",
       " ('Antimicrotubule', 5),\n",
       " ('Metabolism', 5),\n",
       " ('WNT signaling', 4),\n",
       " ('Hormone-related', 3),\n",
       " ('IGF1R signaling', 3),\n",
       " ('Genome integrity', 3),\n",
       " ('p53 pathway', 3),\n",
       " ('Platinum', 1),\n",
       " ('DNA alkylator', 1)]"
      ]
     },
     "execution_count": 24,
     "metadata": {},
     "output_type": "execute_result"
    }
   ],
   "source": [
    "drug_anno=[]\n",
    "for idx in gdsc1_info_sel.index:\n",
    "    name=gdsc1_info_sel.loc[idx,'drug_name']\n",
    "    pathway=gdsc1_info_sel.loc[idx,'pathway_name']\n",
    "    target=gdsc1_info_sel.loc[idx,'targets']\n",
    "    if 'platin' in name:\n",
    "        drug_anno.append('Platinum')\n",
    "    elif 'parib' in name:\n",
    "        drug_anno.append('PARP inhibitor')\n",
    "    elif 'Microtubule' in target:\n",
    "        drug_anno.append('Antimicrotubule')\n",
    "    elif 'Pyrimidine synthesis inhibitor' in target:\n",
    "        drug_anno.append('Antimetabolite')\n",
    "    elif 'Alkylating agent' in target:\n",
    "        drug_anno.append('DNA alkylator')\n",
    "    elif 'Anthracycline'  in target:\n",
    "        drug_anno.append('DNA inhibitor')\n",
    "    elif 'Pyrimidine antimetabolite' in target:\n",
    "        drug_anno.append('Antimetabolite')\n",
    "    elif 'Antimetabolite' in target:\n",
    "        drug_anno.append('Antimetabolite')\n",
    "    elif 'Anti-metabolite' in target:\n",
    "        drug_anno.append('Antimetabolite')\n",
    "    elif 'Dihydrofolate reductase (DHFR)' in target:\n",
    "        drug_anno.append('Antimetabolite')\n",
    "    elif 'DNA crosslinker' in target:\n",
    "        drug_anno.append('DNA alkylator')\n",
    "    elif 'dsDNA break induction' in target:\n",
    "        drug_anno.append('DNA inhibitor')\n",
    "    elif 'DNA replication' in pathway:\n",
    "        drug_anno.append('DNA inhibitor')\n",
    "    elif 'DNA alkylating agent' in target:\n",
    "        drug_anno.append('DNA alkylator')\n",
    "    elif 'PARP' in target:\n",
    "        drug_anno.append('PARP inhibitor')\n",
    "    elif 'TOP' in target:\n",
    "        drug_anno.append('Topoisomerase inhibitor') \n",
    "    elif name in ['Fludarabine','Nelarabine','Dactinomycin','Mitoxantrone',\n",
    "                 'Teniposide']:\n",
    "        drug_anno.append('DNA inhibitor')\n",
    "    elif name in ['Carmustine']:\n",
    "        drug_anno.append('DNA alkylator')\n",
    "    elif pathway in ['ERK MAPK signaling','RTK signaling', 'PI3K/MTOR signaling','Cell cycle',\n",
    "                    'WNT signaling','Protein stability and degradation','WNT signaling',\n",
    "                     'EGFR signaling','JNK and p38 signaling','p53 pathway','Hormone-related',\n",
    "                    'Apoptosis regulation','Cytoskeleton','Metabolism','Metabolism',\n",
    "                     'IGF1R signaling','Genome integrity']:\n",
    "        drug_anno.append(pathway)\n",
    "    elif pathway in ['Chromatin histone acetylation','Chromatin histone methylation',\n",
    "                     'Chromatin other',]:\n",
    "        drug_anno.append('Chromatin-related')\n",
    "    elif pathway in ['ABL signaling','Mitosis','IGF1R signaling',]:\n",
    "        drug_anno.append('Others')   \n",
    "    else:\n",
    "        drug_anno.append('Others')\n",
    "Counter(drug_anno).most_common()"
   ]
  },
  {
   "cell_type": "code",
   "execution_count": 25,
   "id": "ff20063a-b08c-4be1-a6fd-495bcf610611",
   "metadata": {
    "tags": []
   },
   "outputs": [
    {
     "name": "stderr",
     "output_type": "stream",
     "text": [
      "/var/folders/3g/5zyn6dld5rl1rc3t1fmh0t240000gn/T/ipykernel_43640/3054172337.py:1: SettingWithCopyWarning: \n",
      "A value is trying to be set on a copy of a slice from a DataFrame.\n",
      "Try using .loc[row_indexer,col_indexer] = value instead\n",
      "\n",
      "See the caveats in the documentation: https://pandas.pydata.org/pandas-docs/stable/user_guide/indexing.html#returning-a-view-versus-a-copy\n",
      "  gdsc1_info_sel['drug_anno']=drug_anno\n"
     ]
    }
   ],
   "source": [
    "gdsc1_info_sel['drug_anno']=drug_anno"
   ]
  },
  {
   "cell_type": "code",
   "execution_count": 26,
   "id": "10beeae4-d131-4931-94a3-47b79f0b2348",
   "metadata": {
    "tags": []
   },
   "outputs": [
    {
     "data": {
      "text/plain": [
       "[('Others', 32),\n",
       " ('PI3K/MTOR signaling', 21),\n",
       " ('Chromatin-related', 18),\n",
       " ('DNA inhibitor', 13),\n",
       " ('ERK MAPK signaling', 13),\n",
       " ('Apoptosis regulation', 12),\n",
       " ('RTK signaling', 11),\n",
       " ('Cell cycle', 10),\n",
       " ('WNT signaling', 9),\n",
       " ('Protein stability and degradation', 9),\n",
       " ('Genome integrity', 8),\n",
       " ('EGFR signaling', 7),\n",
       " ('Antimetabolite', 6),\n",
       " ('Hormone-related', 5),\n",
       " ('Antimicrotubule', 5),\n",
       " ('PARP inhibitor', 5),\n",
       " ('Metabolism', 4),\n",
       " ('IGF1R signaling', 4),\n",
       " ('p53 pathway', 4),\n",
       " ('Platinum', 3),\n",
       " ('DNA alkylator', 2),\n",
       " ('JNK and p38 signaling', 2),\n",
       " ('Cytoskeleton', 2),\n",
       " ('Topoisomerase inhibitor', 1)]"
      ]
     },
     "execution_count": 26,
     "metadata": {},
     "output_type": "execute_result"
    }
   ],
   "source": [
    "drug_anno=[]\n",
    "for idx in gdsc2_info_sel.index:\n",
    "    name=gdsc2_info_sel.loc[idx,'drug_name']\n",
    "    pathway=gdsc2_info_sel.loc[idx,'pathway_name']\n",
    "    target=gdsc2_info_sel.loc[idx,'targets']\n",
    "    if 'platin' in name:\n",
    "        drug_anno.append('Platinum')\n",
    "    elif 'parib' in name:\n",
    "        drug_anno.append('PARP inhibitor')\n",
    "    elif name in ['Irinotecan']:\n",
    "        drug_anno.append('Topoisomerase inhibitor')\n",
    "    elif 'Microtubule' in target:\n",
    "        drug_anno.append('Antimicrotubule')\n",
    "    elif 'Pyrimidine synthesis inhibitor' in target:\n",
    "        drug_anno.append('Antimetabolite')\n",
    "    elif 'Alkylating agent' in target:\n",
    "        drug_anno.append('DNA alkylator')\n",
    "    elif 'Anthracycline'  in target:\n",
    "        drug_anno.append('DNA inhibitor')\n",
    "    elif 'Pyrimidine antimetabolite' in target:\n",
    "        drug_anno.append('Antimetabolite')\n",
    "    elif 'Antimetabolite' in target:\n",
    "        drug_anno.append('Antimetabolite')\n",
    "    elif 'Anti-metabolite' in target:\n",
    "        drug_anno.append('Antimetabolite')\n",
    "    elif 'Dihydrofolate reductase (DHFR)' in target:\n",
    "        drug_anno.append('Antimetabolite')\n",
    "    elif 'DNA crosslinker' in target:\n",
    "        drug_anno.append('DNA alkylator')\n",
    "    elif 'dsDNA break induction' in target:\n",
    "        drug_anno.append('DNA inhibitor')\n",
    "    elif 'DNA replication' in pathway:\n",
    "        drug_anno.append('DNA inhibitor')\n",
    "    elif 'DNA alkylating agent' in target:\n",
    "        drug_anno.append('DNA alkylator')\n",
    "    elif 'PARP' in target:\n",
    "        drug_anno.append('PARP inhibitor')\n",
    "    elif name in ['Fludarabine','Nelarabine','Dactinomycin','Mitoxantrone',\n",
    "                 'Teniposide']:\n",
    "        drug_anno.append('DNA inhibitor')\n",
    "    elif name in ['Carmustine']:\n",
    "        drug_anno.append('DNA alkylator')\n",
    "    elif pathway in ['ERK MAPK signaling','RTK signaling', 'PI3K/MTOR signaling','Cell cycle',\n",
    "                    'WNT signaling','Protein stability and degradation','WNT signaling',\n",
    "                     'EGFR signaling','JNK and p38 signaling','p53 pathway','Hormone-related',\n",
    "                    'Apoptosis regulation','Cytoskeleton','Metabolism','Metabolism',\n",
    "                     'IGF1R signaling','Genome integrity']:\n",
    "        drug_anno.append(pathway)\n",
    "    elif pathway in ['Chromatin histone acetylation','Chromatin histone methylation',\n",
    "                     'Chromatin other',]:\n",
    "        drug_anno.append('Chromatin-related')\n",
    "    elif pathway in ['ABL signaling','Mitosis','IGF1R signaling',]:\n",
    "        drug_anno.append('Others')   \n",
    "    else:\n",
    "        drug_anno.append('Others')\n",
    "Counter(drug_anno).most_common()"
   ]
  },
  {
   "cell_type": "code",
   "execution_count": 27,
   "id": "527e3866-7f77-4f2b-8a4d-669db68ed108",
   "metadata": {
    "tags": []
   },
   "outputs": [
    {
     "name": "stderr",
     "output_type": "stream",
     "text": [
      "/var/folders/3g/5zyn6dld5rl1rc3t1fmh0t240000gn/T/ipykernel_43640/4142830685.py:1: SettingWithCopyWarning: \n",
      "A value is trying to be set on a copy of a slice from a DataFrame.\n",
      "Try using .loc[row_indexer,col_indexer] = value instead\n",
      "\n",
      "See the caveats in the documentation: https://pandas.pydata.org/pandas-docs/stable/user_guide/indexing.html#returning-a-view-versus-a-copy\n",
      "  gdsc2_info_sel['drug_anno']=drug_anno\n"
     ]
    }
   ],
   "source": [
    "gdsc2_info_sel['drug_anno']=drug_anno"
   ]
  },
  {
   "cell_type": "code",
   "execution_count": 28,
   "id": "4a5b2db0-f121-4467-bf23-a29e28a01595",
   "metadata": {
    "tags": []
   },
   "outputs": [],
   "source": [
    "dict_cid_anno={int(k):v for k,v in zip(gdsc1_info_sel['pubchem'],gdsc1_info_sel['drug_anno'])}\n",
    "for idx in gdsc2_info_sel.index:\n",
    "    k=int(gdsc2_info_sel.loc[idx,'pubchem'])\n",
    "    v=gdsc2_info_sel.loc[idx,'drug_anno']\n",
    "    dict_cid_anno[k]=v"
   ]
  },
  {
   "cell_type": "markdown",
   "id": "5eec667f-9350-4f0f-9280-b268bce2f413",
   "metadata": {
    "tags": []
   },
   "source": [
    "## CTRP2"
   ]
  },
  {
   "cell_type": "code",
   "execution_count": 29,
   "id": "b6f62cee-e490-43b7-915e-dc964324c0c4",
   "metadata": {
    "tags": []
   },
   "outputs": [
    {
     "data": {
      "text/plain": [
       "Counter({'Others': 91,\n",
       "         'DNA alkylator': 7,\n",
       "         'Antimetabolite': 2,\n",
       "         'Antimicrotubule': 4,\n",
       "         'Hormone-related': 2,\n",
       "         'Platinum': 2,\n",
       "         'DNA inhibitor': 9,\n",
       "         'Topoisomerase inhibitor': 2,\n",
       "         'Protein stability and degradation': 2,\n",
       "         'EGFR signaling': 3,\n",
       "         'Chromatin-related': 5,\n",
       "         'PI3K/MTOR signaling': 13,\n",
       "         'Cell cycle': 7,\n",
       "         'RTK signaling': 11,\n",
       "         'ERK MAPK signaling': 3,\n",
       "         'Apoptosis regulation': 4,\n",
       "         'p53 pathway': 2,\n",
       "         'PARP inhibitor': 2,\n",
       "         'Metabolism': 1,\n",
       "         'IGF1R signaling': 1})"
      ]
     },
     "execution_count": 29,
     "metadata": {},
     "output_type": "execute_result"
    }
   ],
   "source": [
    "drug_anno=[]\n",
    "for idx in ctrp2_info_sel.index:\n",
    "    name=ctrp2_info_sel.loc[idx,'cpd_name']\n",
    "    target= ctrp2_info_sel.loc[idx,'target_or_activity_of_compound']\n",
    "    gene=ctrp2_info_sel.loc[idx,'gene_symbol_of_protein_target']\n",
    "    cid=gene=int(ctrp2_info_sel.loc[idx,'cid'])\n",
    "    if cid in dict_cid_anno:\n",
    "        drug_anno.append(dict_cid_anno[cid])\n",
    "    elif 'platin' in name:\n",
    "        drug_anno.append('Platinum')\n",
    "    elif 'parib' in name:\n",
    "        drug_anno.append('PARP inhibitor')\n",
    "    elif 'topoisomerase' in target:\n",
    "        drug_anno.append('Topoisomerase inhibitor')\n",
    "    elif 'tubule' in target :\n",
    "        drug_anno.append('Antimicrotubule')\n",
    "    elif 'DNA alkylator' in target:\n",
    "        drug_anno.append('DNA alkylator')\n",
    "    elif 'inducer of DNA damage' in target:\n",
    "        drug_anno.append('DNA inhibitor')\n",
    "    elif 'DNA crosslinker' in target:\n",
    "        drug_anno.append('DNA alkylator')\n",
    "    elif 'inhibitor of DNA synthesis' in target:\n",
    "        drug_anno.append('Antimetabolite')\n",
    "    elif 'inhibitor of DNA replication' in target:\n",
    "        drug_anno.append('DNA inhibitor')\n",
    "    elif 'inhibitor of thymidylate synthase' in target:\n",
    "        drug_anno.append('Antimetabolite')\n",
    "    elif 'inhibitor of cyclin-dependent kinases' in target:\n",
    "        drug_anno.append('Cell cycle')\n",
    "    elif 'inhibitor of PI3K and mTOR kinase activity' in target:\n",
    "        drug_anno.append('PI3K/MTOR signaling')\n",
    "    elif 'inhibitor of mTOR and PI3K kinase acitivities' in target:\n",
    "        drug_anno.append('PI3K/MTOR signaling')\n",
    "    elif 'inhibitor of mTOR'  in target:\n",
    "        drug_anno.append('PI3K/MTOR signaling')\n",
    "    elif 'inhibitor of p53-MDM2 interaction' in target:\n",
    "        drug_anno.append('p53 pathway')\n",
    "    elif 'inhibitor of HDAC1, HDAC2, HDAC3, HDAC6, and HDAC8' in target:\n",
    "        drug_anno.append('Chromatin-related')\n",
    "    elif 'modulator of estrogen receptors'  in target:\n",
    "        drug_anno.append('Hormone-related')\n",
    "    else:\n",
    "        drug_anno.append('Others')\n",
    "Counter(drug_anno)"
   ]
  },
  {
   "cell_type": "code",
   "execution_count": 30,
   "id": "0e51403d-9e30-4d87-980a-687efefb6000",
   "metadata": {
    "tags": []
   },
   "outputs": [],
   "source": [
    "ctrp2_info_sel['drug_anno']=drug_anno"
   ]
  },
  {
   "cell_type": "markdown",
   "id": "371a70d6-b54a-46a1-b3c1-9522a2165353",
   "metadata": {
    "tags": []
   },
   "source": [
    "## CTRP1"
   ]
  },
  {
   "cell_type": "code",
   "execution_count": 31,
   "id": "339591b6-53d0-4d99-8324-4fb871be9328",
   "metadata": {
    "tags": []
   },
   "outputs": [
    {
     "data": {
      "text/plain": [
       "Counter({'Others': 61,\n",
       "         'Apoptosis regulation': 2,\n",
       "         'Antimicrotubule': 2,\n",
       "         'PI3K/MTOR signaling': 2,\n",
       "         'Cell cycle': 1,\n",
       "         'Hormone-related': 4,\n",
       "         'RTK signaling': 2,\n",
       "         'Protein stability and degradation': 3,\n",
       "         'DNA inhibitor': 2,\n",
       "         'Metabolism': 1,\n",
       "         'Antimetabolite': 2,\n",
       "         'Topoisomerase inhibitor': 1,\n",
       "         'IGF1R signaling': 1,\n",
       "         'DNA alkylator': 1,\n",
       "         'PARP inhibitor': 3,\n",
       "         'ERK MAPK signaling': 1,\n",
       "         'Chromatin-related': 1})"
      ]
     },
     "execution_count": 31,
     "metadata": {},
     "output_type": "execute_result"
    }
   ],
   "source": [
    "drug_anno=[]\n",
    "for idx in ctrp1_info_sel.index:\n",
    "    name=ctrp1_info_sel.loc[idx,'cpd_name']\n",
    "    target= ctrp1_info_sel.loc[idx,'target_or_activity_of_compound']\n",
    "    gene=ctrp1_info_sel.loc[idx,'gene_symbol_of_protein_target']\n",
    "    cid=gene=int(ctrp1_info_sel.loc[idx,'pubchem_cid'])\n",
    "    if cid in dict_cid_anno:\n",
    "        drug_anno.append(dict_cid_anno[cid])\n",
    "    elif 'platin' in name:\n",
    "        drug_anno.append('Platinum')\n",
    "    elif 'parib' in name:\n",
    "        drug_anno.append('PARP inhibitor')\n",
    "    elif 'topoisomerase' in target:\n",
    "        drug_anno.append('Topoisomerase inhibitor')\n",
    "    elif 'tubule' in target :\n",
    "        drug_anno.append('Antimicrotubule')\n",
    "    elif 'tubulin' in target :\n",
    "        drug_anno.append('Antimicrotubule')\n",
    "    elif 'DNA alkylator' in target:\n",
    "        drug_anno.append('DNA alkylator')\n",
    "    elif 'inducer of DNA damage' in target:\n",
    "        drug_anno.append('DNA inhibitor')\n",
    "    elif 'DNA crosslinker' in target:\n",
    "        drug_anno.append('DNA alkylator')\n",
    "    elif 'inhibitor of DNA synthesis' in target:\n",
    "        drug_anno.append('Antimetabolite')\n",
    "    elif 'thymidylate' in target:\n",
    "        drug_anno.append('Antimetabolite')\n",
    "    elif 'inhibitor of DNA replication' in target:\n",
    "        drug_anno.append('DNA inhibitor')\n",
    "    elif 'inhibitor of thymidylate synthase' in target:\n",
    "        drug_anno.append('Antimetabolite')\n",
    "    elif 'inhibitor of cyclin-dependent kinases' in target:\n",
    "        drug_anno.append('Cell cycle')\n",
    "    elif 'inhibitor of PI3K and mTOR kinase activity' in target:\n",
    "        drug_anno.append('PI3K/MTOR signaling')\n",
    "    elif 'inhibitor of mTOR and PI3K kinase acitivities' in target:\n",
    "        drug_anno.append('PI3K/MTOR signaling')\n",
    "    elif 'inhibitor of mTOR'  in target:\n",
    "        drug_anno.append('PI3K/MTOR signaling')\n",
    "    elif 'inhibitor of p53-MDM2 interaction' in target:\n",
    "        drug_anno.append('p53 pathway')\n",
    "    elif 'inhibitor of HDAC1, HDAC2, HDAC3, HDAC6, and HDAC8' in target:\n",
    "        drug_anno.append('Chromatin-related')\n",
    "    elif 'modulator of estrogen receptors'  in target:\n",
    "        drug_anno.append('Hormone-related')\n",
    "    elif 'antagonist of androgen receptor'  in target:\n",
    "        drug_anno.append('Hormone-related')\n",
    "    else:\n",
    "        drug_anno.append('Others')\n",
    "Counter(drug_anno)"
   ]
  },
  {
   "cell_type": "code",
   "execution_count": 32,
   "id": "f85c8c69-371a-4b0f-ba1f-63220145e9b2",
   "metadata": {
    "tags": []
   },
   "outputs": [],
   "source": [
    "ctrp1_info_sel['drug_anno']=drug_anno"
   ]
  },
  {
   "cell_type": "markdown",
   "id": "5b447162-2702-41f7-ae76-50b86ab8810c",
   "metadata": {
    "tags": []
   },
   "source": [
    "## PRISM"
   ]
  },
  {
   "cell_type": "code",
   "execution_count": 33,
   "id": "fca6232c-693b-48c1-be25-4cc954cfa08c",
   "metadata": {
    "tags": []
   },
   "outputs": [],
   "source": [
    "prism_info_sel['moa']=prism_info_sel['moa'].fillna('NoData')"
   ]
  },
  {
   "cell_type": "code",
   "execution_count": 34,
   "id": "fa0fade1-93e8-4da2-a5de-6de1787f97b6",
   "metadata": {
    "tags": []
   },
   "outputs": [
    {
     "data": {
      "text/plain": [
       "[('Others', 43),\n",
       " ('Antimetabolite', 23),\n",
       " ('Hormone-related', 15),\n",
       " ('DNA inhibitor', 12),\n",
       " ('Antimicrotubule', 12),\n",
       " ('Topoisomerase inhibitor', 10),\n",
       " ('EGFR signaling', 10),\n",
       " ('DNA alkylator', 8),\n",
       " ('RTK signaling', 6),\n",
       " ('Protein stability and degradation', 6),\n",
       " ('Chromatin-related', 5),\n",
       " ('ERK MAPK signaling', 5),\n",
       " ('Cell cycle', 4),\n",
       " ('PI3K/MTOR signaling', 4),\n",
       " ('PARP inhibitor', 4),\n",
       " ('Platinum', 3),\n",
       " ('Apoptosis regulation', 2)]"
      ]
     },
     "execution_count": 34,
     "metadata": {},
     "output_type": "execute_result"
    }
   ],
   "source": [
    "drug_anno=[]\n",
    "for idx in prism_info_sel.index:\n",
    "    name=prism_info_sel.loc[idx,'PRISM.drugid']\n",
    "    cid=int(prism_info_sel.loc[idx,'cid'])\n",
    "    moa=prism_info_sel.loc[idx,'moa']\n",
    "    if cid in dict_cid_anno:\n",
    "        drug_anno.append(dict_cid_anno[cid])\n",
    "    elif 'platin' in name:\n",
    "        drug_anno.append('Platinum')\n",
    "    elif 'parib' in name:\n",
    "        drug_anno.append('PARP inhibitor')\n",
    "    elif 'topoisomerase inhibitor' in moa:\n",
    "        drug_anno.append('Topoisomerase inhibitor')\n",
    "    elif 'tubul' in moa :\n",
    "        drug_anno.append('Antimicrotubule')\n",
    "    elif 'DNA alkylating agent' in moa:\n",
    "        drug_anno.append('DNA alkylator')\n",
    "    elif 'DNA synthesis inhibitor' in moa:\n",
    "        drug_anno.append('Antimetabolite')\n",
    "    elif 'ribonucleotide reductase inhibitor' in moa:\n",
    "        drug_anno.append('Antimetabolite')\n",
    "    elif 'thymidylate synthase inhibitor' in moa:\n",
    "        drug_anno.append('Antimetabolite')\n",
    "    elif 'adenosine deaminase inhibitor' in moa:\n",
    "        drug_anno.append('Antimetabolite')\n",
    "    elif 'dihydrofolate reductase inhibitor\tDHFR' in moa:\n",
    "        drug_anno.append('Antimetabolite')\n",
    "    elif 'dihydrofolate reductase inhibitor' in moa:\n",
    "        drug_anno.append('Antimetabolite')\n",
    "    elif name in ['azacitidine']:\n",
    "        drug_anno.append('Antimetabolite')\n",
    "    elif 'PARP' in moa:\n",
    "        drug_anno.append('PARP inhibitor')\n",
    "    elif 'thymidylate synthase inhibitor' in moa:\n",
    "        drug_anno.append('Antimetabolite')\n",
    "    elif  'DNA intercalating agent' in moa:\n",
    "        drug_anno.append('other DNA inhibitor')\n",
    "    elif 'purine antagonist' in moa:\n",
    "        drug_anno.append('Antimetabolite')\n",
    "    elif 'dihydropyrimidine dehydrogenase inhibitor' in moa:\n",
    "        drug_anno.append('Antimetabolite')\n",
    "    elif 'DNA damage inducer' in moa:\n",
    "        drug_anno.append('DNA inhibitor')\n",
    "    elif 'DNA inhibitor' in moa:\n",
    "        drug_anno.append('DNA inhibitor')\n",
    "    elif moa in ['aromatase inhibitor','androgen receptor antagonist',\n",
    "                'estrogen receptor antagonist, selective estrogen receptor modulator (SERM)',\n",
    "                'androgen biosynthesis inhibitor']:\n",
    "        drug_anno.append('Hormone-related')\n",
    "    elif moa in ['EGFR inhibitor']:\n",
    "        drug_anno.append('EGFR signaling')\n",
    "    elif moa in ['proteasome inhibitor']:\n",
    "        drug_anno.append('Protein stability and degradation')    \n",
    "    elif moa in ['HDAC inhibitor']:\n",
    "        drug_anno.append('Chromatin-related')    \n",
    "    elif moa in ['CDK inhibitor']:\n",
    "        drug_anno.append('Cell cycle') \n",
    "    elif moa in ['MEK inhibitor']:\n",
    "        drug_anno.append('ERK MAPK signaling') \n",
    "    elif moa in ['mTOR inhibitor']:\n",
    "        drug_anno.append('PI3K/MTOR signaling') \n",
    "    else:\n",
    "        drug_anno.append('Others')\n",
    "Counter(drug_anno).most_common()"
   ]
  },
  {
   "cell_type": "code",
   "execution_count": 35,
   "id": "811caabd-264d-422c-92b5-f5b3ad450835",
   "metadata": {
    "tags": []
   },
   "outputs": [],
   "source": [
    "prism_info_sel['drug_anno']=drug_anno"
   ]
  },
  {
   "cell_type": "markdown",
   "id": "d74f84da-c92e-4145-9103-001ac2d1077c",
   "metadata": {},
   "source": [
    "## gCSI"
   ]
  },
  {
   "cell_type": "code",
   "execution_count": 36,
   "id": "aff218c7-80a0-45cc-9232-2b9a012c834d",
   "metadata": {
    "tags": []
   },
   "outputs": [
    {
     "data": {
      "text/plain": [
       "Counter({'Antimetabolite': 3,\n",
       "         'ERK MAPK signaling': 3,\n",
       "         'Others': 14,\n",
       "         'Cell cycle': 2,\n",
       "         'PI3K/MTOR signaling': 6,\n",
       "         'Protein stability and degradation': 3,\n",
       "         'WNT signaling': 1,\n",
       "         'Platinum': 1,\n",
       "         'RTK signaling': 1,\n",
       "         'Antimicrotubule': 3,\n",
       "         'EGFR signaling': 3,\n",
       "         'DNA inhibitor': 1,\n",
       "         'Genome integrity': 1,\n",
       "         'Chromatin-related': 1})"
      ]
     },
     "execution_count": 36,
     "metadata": {},
     "output_type": "execute_result"
    }
   ],
   "source": [
    "drug_anno=[]\n",
    "for idx in gcsi_info_sel.index:\n",
    "    name=gcsi_info_sel.loc[idx,'drugid']\n",
    "    cid=int(gcsi_info_sel.loc[idx,'cid'])\n",
    "    if cid in dict_cid_anno:\n",
    "        drug_anno.append(dict_cid_anno[cid])\n",
    "    elif 'platin' in name:\n",
    "        drug_anno.append('Platinum')\n",
    "    elif name in ['Vincristine','Vincaleukoblastine']:\n",
    "        drug_anno.append('Antimicrotubule')\n",
    "    elif name in ['5-Fluorouracil','Gemcitabine']:\n",
    "        drug_anno.append('Antimetabolite')\n",
    "    elif name in ['Erlotinib']:\n",
    "        drug_anno.append('EGFR signaling')\n",
    "    elif name in ['Crizotinib']:\n",
    "        drug_anno.append('RTK signaling')\n",
    "    else:\n",
    "        drug_anno.append('Others')\n",
    "Counter(drug_anno)"
   ]
  },
  {
   "cell_type": "code",
   "execution_count": 37,
   "id": "25ac07e3-4fe0-4641-9362-ad645e96b200",
   "metadata": {
    "tags": []
   },
   "outputs": [
    {
     "name": "stderr",
     "output_type": "stream",
     "text": [
      "/var/folders/3g/5zyn6dld5rl1rc3t1fmh0t240000gn/T/ipykernel_43640/3916020972.py:1: SettingWithCopyWarning: \n",
      "A value is trying to be set on a copy of a slice from a DataFrame.\n",
      "Try using .loc[row_indexer,col_indexer] = value instead\n",
      "\n",
      "See the caveats in the documentation: https://pandas.pydata.org/pandas-docs/stable/user_guide/indexing.html#returning-a-view-versus-a-copy\n",
      "  gcsi_info_sel['drug_anno']=drug_anno\n"
     ]
    }
   ],
   "source": [
    "gcsi_info_sel['drug_anno']=drug_anno"
   ]
  },
  {
   "cell_type": "markdown",
   "id": "93922f57-dc05-4700-829b-abd520d76866",
   "metadata": {},
   "source": [
    "## Write out"
   ]
  },
  {
   "cell_type": "code",
   "execution_count": 38,
   "id": "275f3d2f-bd29-4004-bc5b-06cb7daf8eba",
   "metadata": {
    "tags": []
   },
   "outputs": [
    {
     "name": "stderr",
     "output_type": "stream",
     "text": [
      "/var/folders/3g/5zyn6dld5rl1rc3t1fmh0t240000gn/T/ipykernel_43640/2996626426.py:1: SettingWithCopyWarning: \n",
      "A value is trying to be set on a copy of a slice from a DataFrame.\n",
      "Try using .loc[row_indexer,col_indexer] = value instead\n",
      "\n",
      "See the caveats in the documentation: https://pandas.pydata.org/pandas-docs/stable/user_guide/indexing.html#returning-a-view-versus-a-copy\n",
      "  gdsc1_info_sel['drug_name_common']=['GDSC1_'+x+'_'+str(y) for x,y in zip(gdsc1_info_sel['drug_name'],gdsc1_info_sel['drug_id']) ]\n",
      "/var/folders/3g/5zyn6dld5rl1rc3t1fmh0t240000gn/T/ipykernel_43640/2996626426.py:2: SettingWithCopyWarning: \n",
      "A value is trying to be set on a copy of a slice from a DataFrame.\n",
      "Try using .loc[row_indexer,col_indexer] = value instead\n",
      "\n",
      "See the caveats in the documentation: https://pandas.pydata.org/pandas-docs/stable/user_guide/indexing.html#returning-a-view-versus-a-copy\n",
      "  gdsc2_info_sel['drug_name_common']=['GDSC2_'+x+'_'+str(y) for x,y in zip(gdsc2_info_sel['drug_name'],gdsc2_info_sel['drug_id']) ]\n",
      "/var/folders/3g/5zyn6dld5rl1rc3t1fmh0t240000gn/T/ipykernel_43640/2996626426.py:6: SettingWithCopyWarning: \n",
      "A value is trying to be set on a copy of a slice from a DataFrame.\n",
      "Try using .loc[row_indexer,col_indexer] = value instead\n",
      "\n",
      "See the caveats in the documentation: https://pandas.pydata.org/pandas-docs/stable/user_guide/indexing.html#returning-a-view-versus-a-copy\n",
      "  gcsi_info_sel['drug_name_common']=['gCSI_'+x+'_CID'+str(y) for x,y in zip(gcsi_info_sel.index,gcsi_info_sel['cid']) ]\n"
     ]
    }
   ],
   "source": [
    "gdsc1_info_sel['drug_name_common']=['GDSC1_'+x+'_'+str(y) for x,y in zip(gdsc1_info_sel['drug_name'],gdsc1_info_sel['drug_id']) ]\n",
    "gdsc2_info_sel['drug_name_common']=['GDSC2_'+x+'_'+str(y) for x,y in zip(gdsc2_info_sel['drug_name'],gdsc2_info_sel['drug_id']) ]\n",
    "ctrp1_info_sel['drug_name_common']=['CTRP1_'+x+'_'+str(y) for x,y in zip(ctrp1_info_sel['cpd_name'],ctrp1_info_sel['master_cpd_id']) ]\n",
    "ctrp2_info_sel['drug_name_common']=['CTRP2_'+x+'_'+str(y) for x,y in zip(ctrp2_info_sel['cpd_name'],ctrp2_info_sel['master_cpd_id']) ]\n",
    "prism_info_sel['drug_name_common']=['PRISM_'+x+'_'+str(y) for x,y in zip(prism_info_sel['PRISM.drugid'],prism_info_sel['broad_id']) ]\n",
    "gcsi_info_sel['drug_name_common']=['gCSI_'+x+'_CID'+str(y) for x,y in zip(gcsi_info_sel.index,gcsi_info_sel['cid']) ]"
   ]
  },
  {
   "cell_type": "code",
   "execution_count": 39,
   "id": "ae7fcef1-d6dc-447c-807b-d80b3dd56640",
   "metadata": {
    "tags": []
   },
   "outputs": [],
   "source": [
    "gdsc1_info_sel.to_csv('../processed_data/GDSC1_drug_category.txt',sep='\\t')\n",
    "gdsc2_info_sel.to_csv('../processed_data/GDSC2_drug_category.txt',sep='\\t')\n",
    "ctrp1_info_sel.to_csv('../processed_data/CTRP1_drug_category.txt',sep='\\t')\n",
    "ctrp2_info_sel.to_csv('../processed_data/CTRP2_drug_category.txt',sep='\\t')\n",
    "prism_info_sel.to_csv('../processed_data/PRISM_drug_category.txt',sep='\\t')\n",
    "gcsi_info_sel.to_csv('../processed_data/gCSI_drug_category.txt',sep='\\t')"
   ]
  },
  {
   "cell_type": "code",
   "execution_count": 41,
   "id": "b5f26ece-74cf-40ba-ae3d-2fae0f6ac6f5",
   "metadata": {
    "tags": []
   },
   "outputs": [
    {
     "name": "stderr",
     "output_type": "stream",
     "text": [
      "/var/folders/3g/5zyn6dld5rl1rc3t1fmh0t240000gn/T/ipykernel_43640/589786097.py:2: SettingWithCopyWarning: \n",
      "A value is trying to be set on a copy of a slice from a DataFrame.\n",
      "Try using .loc[row_indexer,col_indexer] = value instead\n",
      "\n",
      "See the caveats in the documentation: https://pandas.pydata.org/pandas-docs/stable/user_guide/indexing.html#returning-a-view-versus-a-copy\n",
      "  gdsc1_info_sel['drug_anno_primary']=gdsc1_info_sel['pathway_name']\n",
      "/var/folders/3g/5zyn6dld5rl1rc3t1fmh0t240000gn/T/ipykernel_43640/589786097.py:3: SettingWithCopyWarning: \n",
      "A value is trying to be set on a copy of a slice from a DataFrame.\n",
      "Try using .loc[row_indexer,col_indexer] = value instead\n",
      "\n",
      "See the caveats in the documentation: https://pandas.pydata.org/pandas-docs/stable/user_guide/indexing.html#returning-a-view-versus-a-copy\n",
      "  gdsc2_info_sel['drug_anno_primary']=gdsc2_info_sel['pathway_name']\n",
      "/var/folders/3g/5zyn6dld5rl1rc3t1fmh0t240000gn/T/ipykernel_43640/589786097.py:7: SettingWithCopyWarning: \n",
      "A value is trying to be set on a copy of a slice from a DataFrame.\n",
      "Try using .loc[row_indexer,col_indexer] = value instead\n",
      "\n",
      "See the caveats in the documentation: https://pandas.pydata.org/pandas-docs/stable/user_guide/indexing.html#returning-a-view-versus-a-copy\n",
      "  gcsi_info_sel['drug_anno_primary']=\"None\"\n"
     ]
    }
   ],
   "source": [
    "# Relation to the primary information\n",
    "gdsc1_info_sel['drug_anno_primary']=gdsc1_info_sel['pathway_name']\n",
    "gdsc2_info_sel['drug_anno_primary']=gdsc2_info_sel['pathway_name']\n",
    "ctrp2_info_sel['drug_anno_primary']=ctrp2_info_sel['target_or_activity_of_compound']\n",
    "ctrp1_info_sel['drug_anno_primary']=ctrp1_info_sel['target_or_activity_of_compound']\n",
    "prism_info_sel['drug_anno_primary']=prism_info_sel['moa']\n",
    "gcsi_info_sel['drug_anno_primary']=\"None\""
   ]
  },
  {
   "cell_type": "code",
   "execution_count": 42,
   "id": "aba9a6e8-92ce-42eb-a87d-011c36ea26ba",
   "metadata": {
    "tags": []
   },
   "outputs": [],
   "source": [
    "add1=gdsc1_info_sel[['drug_name_common','drug_anno','drug_anno_primary','pubchem']].rename(columns={'pubchem':'cid'})\n",
    "add2=gdsc2_info_sel[['drug_name_common','drug_anno','drug_anno_primary','pubchem']].rename(columns={'pubchem':'cid'})\n",
    "add3=ctrp1_info_sel[['drug_name_common','drug_anno','drug_anno_primary','pubchem_cid']].rename(columns={'pubchem_cid':'cid'})\n",
    "add4=ctrp2_info_sel[['drug_name_common','drug_anno','drug_anno_primary','cid']]\n",
    "add5=prism_info_sel[['drug_name_common','drug_anno','drug_anno_primary','cid']]\n",
    "add6=gcsi_info_sel[['drug_name_common','drug_anno','drug_anno_primary','cid']]"
   ]
  },
  {
   "cell_type": "code",
   "execution_count": 43,
   "id": "a0580a19-c9ff-46e2-a3f9-b1c39e9e9829",
   "metadata": {
    "tags": []
   },
   "outputs": [],
   "source": [
    "dfw=pd.concat([add1,add2,add3,add4,add5,add6])"
   ]
  },
  {
   "cell_type": "code",
   "execution_count": 44,
   "id": "12b37849-dae7-40b0-bbcd-f3c78ef03b2e",
   "metadata": {
    "tags": []
   },
   "outputs": [
    {
     "data": {
      "text/plain": [
       "[('Others', 305),\n",
       " ('PI3K/MTOR signaling', 69),\n",
       " ('RTK signaling', 57),\n",
       " ('Chromatin-related', 49),\n",
       " ('DNA inhibitor', 45),\n",
       " ('ERK MAPK signaling', 42),\n",
       " ('Antimetabolite', 41),\n",
       " ('Cell cycle', 36),\n",
       " ('Protein stability and degradation', 31),\n",
       " ('Antimicrotubule', 31),\n",
       " ('EGFR signaling', 30),\n",
       " ('Hormone-related', 29),\n",
       " ('Apoptosis regulation', 26),\n",
       " ('PARP inhibitor', 19),\n",
       " ('DNA alkylator', 19),\n",
       " ('WNT signaling', 14),\n",
       " ('Topoisomerase inhibitor', 14),\n",
       " ('Genome integrity', 12),\n",
       " ('Metabolism', 11),\n",
       " ('Platinum', 10),\n",
       " ('IGF1R signaling', 9),\n",
       " ('Cytoskeleton', 9),\n",
       " ('p53 pathway', 9),\n",
       " ('JNK and p38 signaling', 8)]"
      ]
     },
     "execution_count": 44,
     "metadata": {},
     "output_type": "execute_result"
    }
   ],
   "source": [
    "Counter(dfw['drug_anno']).most_common()"
   ]
  },
  {
   "cell_type": "code",
   "execution_count": 45,
   "id": "d3a481b1-e49e-4edf-a9ef-e03c0aa1f3dd",
   "metadata": {
    "tags": []
   },
   "outputs": [],
   "source": [
    "dfw.to_csv('../processed_data/Drug_annotaion_integrated.txt',sep='\\t',index=False)"
   ]
  },
  {
   "cell_type": "code",
   "execution_count": null,
   "id": "cafdbf10-f9c5-486d-a1bb-01cb8e2d08e8",
   "metadata": {},
   "outputs": [],
   "source": []
  }
 ],
 "metadata": {
  "kernelspec": {
   "display_name": "Python 3 (ipykernel)",
   "language": "python",
   "name": "python3"
  },
  "language_info": {
   "codemirror_mode": {
    "name": "ipython",
    "version": 3
   },
   "file_extension": ".py",
   "mimetype": "text/x-python",
   "name": "python",
   "nbconvert_exporter": "python",
   "pygments_lexer": "ipython3",
   "version": "3.8.15"
  }
 },
 "nbformat": 4,
 "nbformat_minor": 5
}
